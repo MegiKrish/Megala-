{
 "cells": [
  {
   "cell_type": "markdown",
   "id": "1058c30f",
   "metadata": {},
   "source": [
    "## Unsupervised learning Assignment 1 -( sub optimal)"
   ]
  },
  {
   "cell_type": "markdown",
   "id": "9601873f",
   "metadata": {},
   "source": [
    "#### 1.K- Means Clustering"
   ]
  },
  {
   "cell_type": "code",
   "execution_count": 3,
   "id": "a65c8d7c",
   "metadata": {},
   "outputs": [],
   "source": [
    "import pandas as pd\n",
    "import numpy as np\n",
    "import matplotlib.pyplot as plt\n",
    "from sklearn.cluster import KMeans"
   ]
  },
  {
   "cell_type": "code",
   "execution_count": 4,
   "id": "7cadfabf",
   "metadata": {},
   "outputs": [
    {
     "data": {
      "text/plain": [
       "'C:\\\\Users\\\\megik'"
      ]
     },
     "execution_count": 4,
     "metadata": {},
     "output_type": "execute_result"
    }
   ],
   "source": [
    "pwd"
   ]
  },
  {
   "cell_type": "markdown",
   "id": "3532b5b0",
   "metadata": {},
   "source": [
    "#### a.Load Customer Data"
   ]
  },
  {
   "cell_type": "code",
   "execution_count": 5,
   "id": "1ef7a95b",
   "metadata": {},
   "outputs": [],
   "source": [
    "df=pd.read_csv('C:\\\\Users\\\\megik\\\\downloads\\\\Mall_Customers.csv')"
   ]
  },
  {
   "cell_type": "code",
   "execution_count": 6,
   "id": "a76d0621",
   "metadata": {},
   "outputs": [
    {
     "data": {
      "text/html": [
       "<div>\n",
       "<style scoped>\n",
       "    .dataframe tbody tr th:only-of-type {\n",
       "        vertical-align: middle;\n",
       "    }\n",
       "\n",
       "    .dataframe tbody tr th {\n",
       "        vertical-align: top;\n",
       "    }\n",
       "\n",
       "    .dataframe thead th {\n",
       "        text-align: right;\n",
       "    }\n",
       "</style>\n",
       "<table border=\"1\" class=\"dataframe\">\n",
       "  <thead>\n",
       "    <tr style=\"text-align: right;\">\n",
       "      <th></th>\n",
       "      <th>CustomerID</th>\n",
       "      <th>Genre</th>\n",
       "      <th>Age</th>\n",
       "      <th>Annual Income (k$)</th>\n",
       "      <th>Spending Score (1-100)</th>\n",
       "    </tr>\n",
       "  </thead>\n",
       "  <tbody>\n",
       "    <tr>\n",
       "      <th>0</th>\n",
       "      <td>1</td>\n",
       "      <td>Male</td>\n",
       "      <td>19</td>\n",
       "      <td>15</td>\n",
       "      <td>39</td>\n",
       "    </tr>\n",
       "    <tr>\n",
       "      <th>1</th>\n",
       "      <td>2</td>\n",
       "      <td>Male</td>\n",
       "      <td>21</td>\n",
       "      <td>15</td>\n",
       "      <td>81</td>\n",
       "    </tr>\n",
       "    <tr>\n",
       "      <th>2</th>\n",
       "      <td>3</td>\n",
       "      <td>Female</td>\n",
       "      <td>20</td>\n",
       "      <td>16</td>\n",
       "      <td>6</td>\n",
       "    </tr>\n",
       "    <tr>\n",
       "      <th>3</th>\n",
       "      <td>4</td>\n",
       "      <td>Female</td>\n",
       "      <td>23</td>\n",
       "      <td>16</td>\n",
       "      <td>77</td>\n",
       "    </tr>\n",
       "    <tr>\n",
       "      <th>4</th>\n",
       "      <td>5</td>\n",
       "      <td>Female</td>\n",
       "      <td>31</td>\n",
       "      <td>17</td>\n",
       "      <td>40</td>\n",
       "    </tr>\n",
       "  </tbody>\n",
       "</table>\n",
       "</div>"
      ],
      "text/plain": [
       "   CustomerID   Genre  Age  Annual Income (k$)  Spending Score (1-100)\n",
       "0           1    Male   19                  15                      39\n",
       "1           2    Male   21                  15                      81\n",
       "2           3  Female   20                  16                       6\n",
       "3           4  Female   23                  16                      77\n",
       "4           5  Female   31                  17                      40"
      ]
     },
     "execution_count": 6,
     "metadata": {},
     "output_type": "execute_result"
    }
   ],
   "source": [
    "df.head()"
   ]
  },
  {
   "cell_type": "code",
   "execution_count": 7,
   "id": "a7a000b5",
   "metadata": {},
   "outputs": [
    {
     "data": {
      "text/plain": [
       "(200, 5)"
      ]
     },
     "execution_count": 7,
     "metadata": {},
     "output_type": "execute_result"
    }
   ],
   "source": [
    "df.shape"
   ]
  },
  {
   "cell_type": "code",
   "execution_count": 8,
   "id": "41c97284",
   "metadata": {},
   "outputs": [
    {
     "name": "stdout",
     "output_type": "stream",
     "text": [
      "<class 'pandas.core.frame.DataFrame'>\n",
      "RangeIndex: 200 entries, 0 to 199\n",
      "Data columns (total 5 columns):\n",
      " #   Column                  Non-Null Count  Dtype \n",
      "---  ------                  --------------  ----- \n",
      " 0   CustomerID              200 non-null    int64 \n",
      " 1   Genre                   200 non-null    object\n",
      " 2   Age                     200 non-null    int64 \n",
      " 3   Annual Income (k$)      200 non-null    int64 \n",
      " 4   Spending Score (1-100)  200 non-null    int64 \n",
      "dtypes: int64(4), object(1)\n",
      "memory usage: 7.9+ KB\n"
     ]
    }
   ],
   "source": [
    "df.info()"
   ]
  },
  {
   "cell_type": "markdown",
   "id": "35798d08",
   "metadata": {},
   "source": [
    "#### b.Check the number of cells in each column with null values."
   ]
  },
  {
   "cell_type": "code",
   "execution_count": 9,
   "id": "6c8cc3a5",
   "metadata": {},
   "outputs": [
    {
     "data": {
      "text/plain": [
       "CustomerID                0\n",
       "Genre                     0\n",
       "Age                       0\n",
       "Annual Income (k$)        0\n",
       "Spending Score (1-100)    0\n",
       "dtype: int64"
      ]
     },
     "execution_count": 9,
     "metadata": {},
     "output_type": "execute_result"
    }
   ],
   "source": [
    "df.isnull().sum()"
   ]
  },
  {
   "cell_type": "code",
   "execution_count": 10,
   "id": "580ada5d",
   "metadata": {},
   "outputs": [],
   "source": [
    "### Feature selection for the model\n",
    "X= df.iloc[:, [2,4]].values"
   ]
  },
  {
   "cell_type": "code",
   "execution_count": 11,
   "id": "255a3d89",
   "metadata": {},
   "outputs": [
    {
     "data": {
      "text/plain": [
       "array([[19, 39],\n",
       "       [21, 81],\n",
       "       [20,  6],\n",
       "       [23, 77],\n",
       "       [31, 40],\n",
       "       [22, 76],\n",
       "       [35,  6],\n",
       "       [23, 94],\n",
       "       [64,  3],\n",
       "       [30, 72],\n",
       "       [67, 14],\n",
       "       [35, 99],\n",
       "       [58, 15],\n",
       "       [24, 77],\n",
       "       [37, 13],\n",
       "       [22, 79],\n",
       "       [35, 35],\n",
       "       [20, 66],\n",
       "       [52, 29],\n",
       "       [35, 98],\n",
       "       [35, 35],\n",
       "       [25, 73],\n",
       "       [46,  5],\n",
       "       [31, 73],\n",
       "       [54, 14],\n",
       "       [29, 82],\n",
       "       [45, 32],\n",
       "       [35, 61],\n",
       "       [40, 31],\n",
       "       [23, 87],\n",
       "       [60,  4],\n",
       "       [21, 73],\n",
       "       [53,  4],\n",
       "       [18, 92],\n",
       "       [49, 14],\n",
       "       [21, 81],\n",
       "       [42, 17],\n",
       "       [30, 73],\n",
       "       [36, 26],\n",
       "       [20, 75],\n",
       "       [65, 35],\n",
       "       [24, 92],\n",
       "       [48, 36],\n",
       "       [31, 61],\n",
       "       [49, 28],\n",
       "       [24, 65],\n",
       "       [50, 55],\n",
       "       [27, 47],\n",
       "       [29, 42],\n",
       "       [31, 42],\n",
       "       [49, 52],\n",
       "       [33, 60],\n",
       "       [31, 54],\n",
       "       [59, 60],\n",
       "       [50, 45],\n",
       "       [47, 41],\n",
       "       [51, 50],\n",
       "       [69, 46],\n",
       "       [27, 51],\n",
       "       [53, 46],\n",
       "       [70, 56],\n",
       "       [19, 55],\n",
       "       [67, 52],\n",
       "       [54, 59],\n",
       "       [63, 51],\n",
       "       [18, 59],\n",
       "       [43, 50],\n",
       "       [68, 48],\n",
       "       [19, 59],\n",
       "       [32, 47],\n",
       "       [70, 55],\n",
       "       [47, 42],\n",
       "       [60, 49],\n",
       "       [60, 56],\n",
       "       [59, 47],\n",
       "       [26, 54],\n",
       "       [45, 53],\n",
       "       [40, 48],\n",
       "       [23, 52],\n",
       "       [49, 42],\n",
       "       [57, 51],\n",
       "       [38, 55],\n",
       "       [67, 41],\n",
       "       [46, 44],\n",
       "       [21, 57],\n",
       "       [48, 46],\n",
       "       [55, 58],\n",
       "       [22, 55],\n",
       "       [34, 60],\n",
       "       [50, 46],\n",
       "       [68, 55],\n",
       "       [18, 41],\n",
       "       [48, 49],\n",
       "       [40, 40],\n",
       "       [32, 42],\n",
       "       [24, 52],\n",
       "       [47, 47],\n",
       "       [27, 50],\n",
       "       [48, 42],\n",
       "       [20, 49],\n",
       "       [23, 41],\n",
       "       [49, 48],\n",
       "       [67, 59],\n",
       "       [26, 55],\n",
       "       [49, 56],\n",
       "       [21, 42],\n",
       "       [66, 50],\n",
       "       [54, 46],\n",
       "       [68, 43],\n",
       "       [66, 48],\n",
       "       [65, 52],\n",
       "       [19, 54],\n",
       "       [38, 42],\n",
       "       [19, 46],\n",
       "       [18, 48],\n",
       "       [19, 50],\n",
       "       [63, 43],\n",
       "       [49, 59],\n",
       "       [51, 43],\n",
       "       [50, 57],\n",
       "       [27, 56],\n",
       "       [38, 40],\n",
       "       [40, 58],\n",
       "       [39, 91],\n",
       "       [23, 29],\n",
       "       [31, 77],\n",
       "       [43, 35],\n",
       "       [40, 95],\n",
       "       [59, 11],\n",
       "       [38, 75],\n",
       "       [47,  9],\n",
       "       [39, 75],\n",
       "       [25, 34],\n",
       "       [31, 71],\n",
       "       [20,  5],\n",
       "       [29, 88],\n",
       "       [44,  7],\n",
       "       [32, 73],\n",
       "       [19, 10],\n",
       "       [35, 72],\n",
       "       [57,  5],\n",
       "       [32, 93],\n",
       "       [28, 40],\n",
       "       [32, 87],\n",
       "       [25, 12],\n",
       "       [28, 97],\n",
       "       [48, 36],\n",
       "       [32, 74],\n",
       "       [34, 22],\n",
       "       [34, 90],\n",
       "       [43, 17],\n",
       "       [39, 88],\n",
       "       [44, 20],\n",
       "       [38, 76],\n",
       "       [47, 16],\n",
       "       [27, 89],\n",
       "       [37,  1],\n",
       "       [30, 78],\n",
       "       [34,  1],\n",
       "       [30, 73],\n",
       "       [56, 35],\n",
       "       [29, 83],\n",
       "       [19,  5],\n",
       "       [31, 93],\n",
       "       [50, 26],\n",
       "       [36, 75],\n",
       "       [42, 20],\n",
       "       [33, 95],\n",
       "       [36, 27],\n",
       "       [32, 63],\n",
       "       [40, 13],\n",
       "       [28, 75],\n",
       "       [36, 10],\n",
       "       [36, 92],\n",
       "       [52, 13],\n",
       "       [30, 86],\n",
       "       [58, 15],\n",
       "       [27, 69],\n",
       "       [59, 14],\n",
       "       [35, 90],\n",
       "       [37, 32],\n",
       "       [32, 86],\n",
       "       [46, 15],\n",
       "       [29, 88],\n",
       "       [41, 39],\n",
       "       [30, 97],\n",
       "       [54, 24],\n",
       "       [28, 68],\n",
       "       [41, 17],\n",
       "       [36, 85],\n",
       "       [34, 23],\n",
       "       [32, 69],\n",
       "       [33,  8],\n",
       "       [38, 91],\n",
       "       [47, 16],\n",
       "       [35, 79],\n",
       "       [45, 28],\n",
       "       [32, 74],\n",
       "       [32, 18],\n",
       "       [30, 83]], dtype=int64)"
      ]
     },
     "execution_count": 11,
     "metadata": {},
     "output_type": "execute_result"
    }
   ],
   "source": [
    "X"
   ]
  },
  {
   "cell_type": "code",
   "execution_count": 13,
   "id": "afe6d542",
   "metadata": {},
   "outputs": [],
   "source": [
    "cluster=[]"
   ]
  },
  {
   "cell_type": "code",
   "execution_count": 14,
   "id": "4a635ddf",
   "metadata": {},
   "outputs": [
    {
     "name": "stderr",
     "output_type": "stream",
     "text": [
      "C:\\Users\\megik\\anaconda3\\lib\\site-packages\\sklearn\\cluster\\_kmeans.py:1036: UserWarning: KMeans is known to have a memory leak on Windows with MKL, when there are less chunks than available threads. You can avoid it by setting the environment variable OMP_NUM_THREADS=1.\n",
      "  warnings.warn(\n"
     ]
    }
   ],
   "source": [
    "for i in range(1,11):\n",
    "    kmeans = KMeans(n_clusters= i, init='k-means++', random_state=0)\n",
    "    kmeans.fit(X)\n",
    "    cluster.append(kmeans.inertia_)"
   ]
  },
  {
   "cell_type": "code",
   "execution_count": 15,
   "id": "fc139be6",
   "metadata": {},
   "outputs": [],
   "source": [
    "#Model Build\n",
    "kmeansmodel = KMeans(n_clusters= 5, init='k-means++', random_state=0)\n",
    "y_kmeans= kmeansmodel.fit_predict(X)"
   ]
  },
  {
   "cell_type": "markdown",
   "id": "6fba88ef",
   "metadata": {},
   "source": [
    "### c.Create a scatter plot with age as x and spending score as y."
   ]
  },
  {
   "cell_type": "code",
   "execution_count": 16,
   "id": "3cec1a24",
   "metadata": {},
   "outputs": [
    {
     "data": {
      "image/png": "[encoded data removed]",
      "text/plain": [
       "<Figure size 432x288 with 1 Axes>"
      ]
     },
     "metadata": {
      "needs_background": "light"
     },
     "output_type": "display_data"
    }
   ],
   "source": [
    "#Visualizing all the clusters \n",
    "\n",
    "plt.scatter(X[y_kmeans == 0, 0], X[y_kmeans == 0, 1], s = 100, c = 'red', label = 'Cluster 1')\n",
    "plt.scatter(X[y_kmeans == 1, 0], X[y_kmeans == 1, 1], s = 100, c = 'blue', label = 'Cluster 2')\n",
    "plt.scatter(X[y_kmeans == 2, 0], X[y_kmeans == 2, 1], s = 100, c = 'green', label = 'Cluster 3')\n",
    "plt.scatter(X[y_kmeans == 3, 0], X[y_kmeans == 3, 1], s = 100, c = 'cyan', label = 'Cluster 4')\n",
    "plt.scatter(X[y_kmeans == 4, 0], X[y_kmeans == 4, 1], s = 100, c = 'magenta', label = 'Cluster 5')\n",
    "plt.scatter(kmeans.cluster_centers_[:, 0], kmeans.cluster_centers_[:, 1], s = 300, c = 'yellow', label = 'Centroids')\n",
    "plt.title('Clusters of customers')\n",
    "plt.xlabel('Age')\n",
    "plt.ylabel('Spending Score (1-100)')\n",
    "plt.legend()\n",
    "plt.show()"
   ]
  },
  {
   "cell_type": "code",
   "execution_count": null,
   "id": "71cdbad5",
   "metadata": {},
   "outputs": [],
   "source": []
  }
 ],
 "metadata": {
  "kernelspec": {
   "display_name": "Python 3 (ipykernel)",
   "language": "python",
   "name": "python3"
  },
  "language_info": {
   "codemirror_mode": {
    "name": "ipython",
    "version": 3
   },
   "file_extension": ".py",
   "mimetype": "text/x-python",
   "name": "python",
   "nbconvert_exporter": "python",
   "pygments_lexer": "ipython3",
   "version": "3.9.12"
  }
 },
 "nbformat": 4,
 "nbformat_minor": 5
}
