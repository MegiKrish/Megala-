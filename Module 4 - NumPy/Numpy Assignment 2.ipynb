{
 "cells": [
  {
   "cell_type": "markdown",
   "id": "739aa252",
   "metadata": {},
   "source": [
    "## Numpy Assignment 2"
   ]
  },
  {
   "cell_type": "code",
   "execution_count": 2,
   "id": "9f0a0844",
   "metadata": {},
   "outputs": [],
   "source": [
    "import numpy as np"
   ]
  },
  {
   "cell_type": "markdown",
   "id": "92f37a99",
   "metadata": {},
   "source": [
    "#### 1.Create a 3x3 Matrix,range 2 to 10"
   ]
  },
  {
   "cell_type": "code",
   "execution_count": 2,
   "id": "22b3fb80",
   "metadata": {},
   "outputs": [
    {
     "data": {
      "text/plain": [
       "array([[ 2,  3,  4],\n",
       "       [ 5,  6,  7],\n",
       "       [ 8,  9, 10]])"
      ]
     },
     "execution_count": 2,
     "metadata": {},
     "output_type": "execute_result"
    }
   ],
   "source": [
    "arr=np.arange(2,11).reshape(3,3)\n",
    "arr"
   ]
  },
  {
   "cell_type": "markdown",
   "id": "da559133",
   "metadata": {},
   "source": [
    "####  2.Create a numpy array and convert integer into float"
   ]
  },
  {
   "cell_type": "code",
   "execution_count": 3,
   "id": "ae4df887",
   "metadata": {},
   "outputs": [],
   "source": [
    "a=[1,2,3,4]"
   ]
  },
  {
   "cell_type": "code",
   "execution_count": 4,
   "id": "bc8dd661",
   "metadata": {},
   "outputs": [
    {
     "data": {
      "text/plain": [
       "array([1., 2., 3., 4.])"
      ]
     },
     "execution_count": 4,
     "metadata": {},
     "output_type": "execute_result"
    }
   ],
   "source": [
    "np.array(a).astype(float)"
   ]
  },
  {
   "cell_type": "markdown",
   "id": "7152409e",
   "metadata": {},
   "source": [
    "#### 3.Numpy program to append values to the end of an array"
   ]
  },
  {
   "cell_type": "code",
   "execution_count": 4,
   "id": "762e3150",
   "metadata": {},
   "outputs": [],
   "source": [
    "b=np.array([10,20,30])"
   ]
  },
  {
   "cell_type": "code",
   "execution_count": 5,
   "id": "2c5660ed",
   "metadata": {},
   "outputs": [],
   "source": [
    "c=np.array([40,50,60,70,80,90])"
   ]
  },
  {
   "cell_type": "code",
   "execution_count": 6,
   "id": "6328385f",
   "metadata": {},
   "outputs": [],
   "source": [
    "d=np.concatenate((b,c),axis=0) "
   ]
  },
  {
   "cell_type": "code",
   "execution_count": 7,
   "id": "12e10fc0",
   "metadata": {},
   "outputs": [
    {
     "name": "stdout",
     "output_type": "stream",
     "text": [
      "[10 20 30 40 50 60 70 80 90]\n"
     ]
    }
   ],
   "source": [
    "print(d)"
   ]
  },
  {
   "cell_type": "markdown",
   "id": "14c2bc4e",
   "metadata": {},
   "source": [
    "#### 4.Create 2 numpy arrays and add the elements of both the arrays and store the result in sumArray."
   ]
  },
  {
   "cell_type": "code",
   "execution_count": 8,
   "id": "debf868e",
   "metadata": {},
   "outputs": [],
   "source": [
    "arr1=np.array([30,40,50,60])\n",
    "arr2=np.array([10,20,30,40])\n",
    "sumArray=arr1+arr2"
   ]
  },
  {
   "cell_type": "code",
   "execution_count": 9,
   "id": "f63334b4",
   "metadata": {},
   "outputs": [
    {
     "name": "stdout",
     "output_type": "stream",
     "text": [
      "[ 40  60  80 100]\n"
     ]
    }
   ],
   "source": [
    "print(sumArray)"
   ]
  },
  {
   "cell_type": "markdown",
   "id": "72953353",
   "metadata": {},
   "source": [
    "#### 5.Create a 3*3 array having values from 10-90(interval of 10) and store that in array1.\n",
    "#### perform the following tasks:"
   ]
  },
  {
   "cell_type": "code",
   "execution_count": 22,
   "id": "cb5e154c",
   "metadata": {},
   "outputs": [],
   "source": [
    "array1=np.arange(10,100,10).reshape(3,3)"
   ]
  },
  {
   "cell_type": "code",
   "execution_count": 23,
   "id": "3539a355",
   "metadata": {},
   "outputs": [
    {
     "data": {
      "text/plain": [
       "array([[10, 20, 30],\n",
       "       [40, 50, 60],\n",
       "       [70, 80, 90]])"
      ]
     },
     "execution_count": 23,
     "metadata": {},
     "output_type": "execute_result"
    }
   ],
   "source": [
    "array1"
   ]
  },
  {
   "cell_type": "markdown",
   "id": "288ac61e",
   "metadata": {},
   "source": [
    "#### a.Extract the 1st row from the array"
   ]
  },
  {
   "cell_type": "code",
   "execution_count": 26,
   "id": "77ae462e",
   "metadata": {},
   "outputs": [
    {
     "data": {
      "text/plain": [
       "array([[10, 20, 30]])"
      ]
     },
     "execution_count": 26,
     "metadata": {},
     "output_type": "execute_result"
    }
   ],
   "source": [
    "array1[0:1][0:2]"
   ]
  },
  {
   "cell_type": "markdown",
   "id": "a89c00bb",
   "metadata": {},
   "source": [
    "#### b.Extract the last element from the array"
   ]
  },
  {
   "cell_type": "code",
   "execution_count": 27,
   "id": "2f768ff1",
   "metadata": {},
   "outputs": [
    {
     "data": {
      "text/plain": [
       "90"
      ]
     },
     "execution_count": 27,
     "metadata": {},
     "output_type": "execute_result"
    }
   ],
   "source": [
    "array1[2][2]"
   ]
  },
  {
   "cell_type": "code",
   "execution_count": null,
   "id": "259d8b55",
   "metadata": {},
   "outputs": [],
   "source": []
  }
 ],
 "metadata": {
  "kernelspec": {
   "display_name": "Python 3 (ipykernel)",
   "language": "python",
   "name": "python3"
  },
  "language_info": {
   "codemirror_mode": {
    "name": "ipython",
    "version": 3
   },
   "file_extension": ".py",
   "mimetype": "text/x-python",
   "name": "python",
   "nbconvert_exporter": "python",
   "pygments_lexer": "ipython3",
   "version": "3.9.12"
  }
 },
 "nbformat": 4,
 "nbformat_minor": 5
}
