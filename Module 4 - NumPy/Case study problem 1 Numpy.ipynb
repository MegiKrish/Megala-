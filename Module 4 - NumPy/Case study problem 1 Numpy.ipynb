{
 "cells": [
  {
   "cell_type": "markdown",
   "id": "8c47f526",
   "metadata": {},
   "source": [
    "## Case Study problem 1 in Numpy"
   ]
  },
  {
   "cell_type": "markdown",
   "id": "1f1d9be5",
   "metadata": {},
   "source": [
    "#### 1.Create a function that takes dimensions as tuples e.g.,(3,3) and a numeric value and returns a numpy array of the given dimension filled with the given value e.g.:solve((3,3),5) will return\n",
    "[\n",
    "    [5,5,5],\n",
    "    [5,5,5],\n",
    "    [5,5,5]\n",
    " ]"
   ]
  },
  {
   "cell_type": "code",
   "execution_count": 1,
   "id": "c71c5f21",
   "metadata": {},
   "outputs": [],
   "source": [
    "import numpy as np"
   ]
  },
  {
   "cell_type": "code",
   "execution_count": 9,
   "id": "5f300926",
   "metadata": {},
   "outputs": [
    {
     "data": {
      "text/plain": [
       "array([[5, 5, 5],\n",
       "       [5, 5, 5],\n",
       "       [5, 5, 5]])"
      ]
     },
     "execution_count": 9,
     "metadata": {},
     "output_type": "execute_result"
    }
   ],
   "source": [
    "a=np.full(9,5).reshape(3,3)\n",
    "a"
   ]
  },
  {
   "cell_type": "markdown",
   "id": "0d7ff68b",
   "metadata": {},
   "source": [
    "#### 2.Create a method that takes n numpy arrays of same dimensions sums them and return the answer."
   ]
  },
  {
   "cell_type": "code",
   "execution_count": 10,
   "id": "889a0786",
   "metadata": {},
   "outputs": [
    {
     "data": {
      "text/plain": [
       "array([[ 1,  2,  3,  4,  5],\n",
       "       [ 6,  7,  8,  9, 10],\n",
       "       [11, 12, 13, 14, 15],\n",
       "       [16, 17, 18, 19, 20],\n",
       "       [21, 22, 23, 24, 25]])"
      ]
     },
     "execution_count": 10,
     "metadata": {},
     "output_type": "execute_result"
    }
   ],
   "source": [
    "mat = np.arange(1,26).reshape(5,5)\n",
    "mat"
   ]
  },
  {
   "cell_type": "code",
   "execution_count": 12,
   "id": "8748c98a",
   "metadata": {},
   "outputs": [
    {
     "data": {
      "text/plain": [
       "325"
      ]
     },
     "execution_count": 12,
     "metadata": {},
     "output_type": "execute_result"
    }
   ],
   "source": [
    "b=np.sum(mat)\n",
    "b"
   ]
  },
  {
   "cell_type": "markdown",
   "id": "b2fa359d",
   "metadata": {},
   "source": [
    "#### 3. Given a 2D array of NxM dimension,write a function that accepts this array as well as two numbers N and M.The method should return the top-left NxM sub matrix e.g:\n",
    "[\n",
    "    [1,2,3],\n",
    "    [4,5,6],\n",
    "    [7,8,9]\n",
    "  ]"
   ]
  },
  {
   "cell_type": "code",
   "execution_count": 13,
   "id": "f2fde056",
   "metadata": {},
   "outputs": [
    {
     "data": {
      "text/plain": [
       "array([[1, 2, 3],\n",
       "       [4, 5, 6],\n",
       "       [7, 8, 9]])"
      ]
     },
     "execution_count": 13,
     "metadata": {},
     "output_type": "execute_result"
    }
   ],
   "source": [
    "N=np.arange(1,10).reshape(3,3)\n",
    "N"
   ]
  },
  {
   "cell_type": "markdown",
   "id": "1a62107c",
   "metadata": {},
   "source": [
    "#### top_left_sub_matrix(matrix,2,2)-> should return:\n",
    "[\n",
    "    [1,2]\n",
    "    [4,5]\n",
    " ]"
   ]
  },
  {
   "cell_type": "code",
   "execution_count": 121,
   "id": "f16e65f2",
   "metadata": {},
   "outputs": [
    {
     "data": {
      "text/plain": [
       "array([[1, 2],\n",
       "       [4, 5]])"
      ]
     },
     "execution_count": 121,
     "metadata": {},
     "output_type": "execute_result"
    }
   ],
   "source": [
    "c=N[:2,:2]\n",
    "c"
   ]
  },
  {
   "cell_type": "markdown",
   "id": "00fcf6f8",
   "metadata": {},
   "source": [
    "#### 4. Given a 2D array of NxM dimension,write a function that accepts this array as well as two numbers N and M.The method should return the bottom-right NxM sub matrix e.g:\n",
    "[\n",
    "    [1,2,3],\n",
    "    [4,5,6],\n",
    "    [7,8,9]\n",
    "  ]"
   ]
  },
  {
   "cell_type": "code",
   "execution_count": 55,
   "id": "c8586ad8",
   "metadata": {},
   "outputs": [
    {
     "data": {
      "text/plain": [
       "array([[1, 2, 3],\n",
       "       [4, 5, 6],\n",
       "       [7, 8, 9]])"
      ]
     },
     "execution_count": 55,
     "metadata": {},
     "output_type": "execute_result"
    }
   ],
   "source": [
    "M=np.arange(1,10).reshape(3,3)\n",
    "M"
   ]
  },
  {
   "cell_type": "markdown",
   "id": "89e7e954",
   "metadata": {},
   "source": [
    "#### sub_matrix(matrix,1,1)-> should return:(keep in mind these arrays are zero indexed)\n",
    "[\n",
    "    [5,6]\n",
    "    [8,9]\n",
    " ]"
   ]
  },
  {
   "cell_type": "code",
   "execution_count": 133,
   "id": "50c26ab7",
   "metadata": {},
   "outputs": [
    {
     "data": {
      "text/plain": [
       "array([[5, 6],\n",
       "       [8, 9]])"
      ]
     },
     "execution_count": 133,
     "metadata": {},
     "output_type": "execute_result"
    }
   ],
   "source": [
    "d=M[1:,1:]\n",
    "d"
   ]
  },
  {
   "cell_type": "markdown",
   "id": "cf250d6a",
   "metadata": {},
   "source": [
    "#### 5.Given a 1D numpy array.write a function that accept this array as parameters.The method should return a dictionary with 'mean' and 'std_dev' as key and array's mean and array's standard deviation as values\n",
    "[1,1,1]\n",
    "#### solution(arr)-> should return:\n",
    "#### {'mean':1.0,'std_dev':0.0}\n"
   ]
  },
  {
   "cell_type": "code",
   "execution_count": 2,
   "id": "7c15b148",
   "metadata": {},
   "outputs": [
    {
     "data": {
      "text/plain": [
       "array([1, 1, 1])"
      ]
     },
     "execution_count": 2,
     "metadata": {},
     "output_type": "execute_result"
    }
   ],
   "source": [
    "arr=np.ones(3).astype(int)\n",
    "arr"
   ]
  },
  {
   "cell_type": "code",
   "execution_count": 21,
   "id": "98a6c1ff",
   "metadata": {},
   "outputs": [],
   "source": [
    "def function(arr):\n",
    "    arrays_mean=arr.mean()\n",
    "    arrays_standard_deviation=arr.std()\n",
    "    dic={'mean':arrays_mean,'std_dev':arrays_standard_deviation}\n",
    "    return dic"
   ]
  },
  {
   "cell_type": "code",
   "execution_count": 23,
   "id": "c55f48ca",
   "metadata": {},
   "outputs": [
    {
     "data": {
      "text/plain": [
       "{'mean': 1.0, 'std_dev': 0.0}"
      ]
     },
     "execution_count": 23,
     "metadata": {},
     "output_type": "execute_result"
    }
   ],
   "source": [
    "function(arr) "
   ]
  }
 ],
 "metadata": {
  "kernelspec": {
   "display_name": "Python 3 (ipykernel)",
   "language": "python",
   "name": "python3"
  },
  "language_info": {
   "codemirror_mode": {
    "name": "ipython",
    "version": 3
   },
   "file_extension": ".py",
   "mimetype": "text/x-python",
   "name": "python",
   "nbconvert_exporter": "python",
   "pygments_lexer": "ipython3",
   "version": "3.9.12"
  }
 },
 "nbformat": 4,
 "nbformat_minor": 5
}
