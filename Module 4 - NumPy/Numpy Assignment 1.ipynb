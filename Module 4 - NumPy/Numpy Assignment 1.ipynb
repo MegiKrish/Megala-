{
 "cells": [
  {
   "cell_type": "markdown",
   "id": "31f85cce",
   "metadata": {},
   "source": [
    "## Numpy Assignment 1"
   ]
  },
  {
   "cell_type": "markdown",
   "id": "266073a8",
   "metadata": {},
   "source": [
    " ####  1.Create a List named 'mylist' that is having the following elements:10,20,30,'apple',True,8.10\n",
    " "
   ]
  },
  {
   "cell_type": "code",
   "execution_count": 1,
   "id": "20cced9f",
   "metadata": {},
   "outputs": [],
   "source": [
    "import numpy as np"
   ]
  },
  {
   "cell_type": "code",
   "execution_count": 1,
   "id": "a5e31495",
   "metadata": {},
   "outputs": [
    {
     "data": {
      "text/plain": [
       "[10, 20, 30, 'apple', True, 8.1]"
      ]
     },
     "execution_count": 1,
     "metadata": {},
     "output_type": "execute_result"
    }
   ],
   "source": [
    "mylist=[10,20,30,'apple',True,8.10]\n",
    "mylist"
   ]
  },
  {
   "cell_type": "markdown",
   "id": "6b7531bc",
   "metadata": {},
   "source": [
    "#### a. Now in the 'mylist', append these values:30,40"
   ]
  },
  {
   "cell_type": "code",
   "execution_count": 3,
   "id": "2f7086e3",
   "metadata": {},
   "outputs": [
    {
     "data": {
      "text/plain": [
       "[10, 20, 30, 'apple', True, 8.1, [30, 40]]"
      ]
     },
     "execution_count": 3,
     "metadata": {},
     "output_type": "execute_result"
    }
   ],
   "source": [
    "mylist=[10,20,30,'apple',True,8.10]\n",
    "mylist.append([30,40])\n",
    "mylist"
   ]
  },
  {
   "cell_type": "markdown",
   "id": "745d74ca",
   "metadata": {},
   "source": [
    "#### b.After that reverse the elements of the 'mylist'and store that in 'reversed list'"
   ]
  },
  {
   "cell_type": "code",
   "execution_count": 13,
   "id": "808a81a6",
   "metadata": {},
   "outputs": [],
   "source": [
    "reversedlist=mylist"
   ]
  },
  {
   "cell_type": "code",
   "execution_count": 16,
   "id": "dc4be6a8",
   "metadata": {},
   "outputs": [],
   "source": [
    "reversedlist.reverse()"
   ]
  },
  {
   "cell_type": "code",
   "execution_count": 17,
   "id": "cec3de44",
   "metadata": {},
   "outputs": [
    {
     "data": {
      "text/plain": [
       "[[30, 40], 8.1, True, 'apple', 30, 20, 10]"
      ]
     },
     "execution_count": 17,
     "metadata": {},
     "output_type": "execute_result"
    }
   ],
   "source": [
    "reversedlist"
   ]
  },
  {
   "cell_type": "markdown",
   "id": "c32c0aaa",
   "metadata": {},
   "source": [
    "#### 2.Create a dictionary with key values as 1,2,3 and the values as 'data','information' and 'text'.\n"
   ]
  },
  {
   "cell_type": "code",
   "execution_count": 18,
   "id": "3b7db5d7",
   "metadata": {},
   "outputs": [],
   "source": [
    "Dict={1:'data',2:'information',3:'text'}"
   ]
  },
  {
   "cell_type": "code",
   "execution_count": 19,
   "id": "42bd7bb0",
   "metadata": {},
   "outputs": [
    {
     "data": {
      "text/plain": [
       "{1: 'data', 2: 'information', 3: 'text'}"
      ]
     },
     "execution_count": 19,
     "metadata": {},
     "output_type": "execute_result"
    }
   ],
   "source": [
    "Dict"
   ]
  },
  {
   "cell_type": "markdown",
   "id": "6aa47e78",
   "metadata": {},
   "source": [
    "#### a.After that eliminate the 'text' value from the dictionary"
   ]
  },
  {
   "cell_type": "code",
   "execution_count": 3,
   "id": "3ec8f6c6",
   "metadata": {},
   "outputs": [
    {
     "data": {
      "text/plain": [
       "{1: 'data', 2: 'information'}"
      ]
     },
     "execution_count": 3,
     "metadata": {},
     "output_type": "execute_result"
    }
   ],
   "source": [
    "myDictionary={\n",
    "    1:'data',\n",
    "    2:'information',\n",
    "    3:'text'\n",
    "}\n",
    "del myDictionary[3]\n",
    "myDictionary"
   ]
  },
  {
   "cell_type": "markdown",
   "id": "1b0af83d",
   "metadata": {},
   "source": [
    "#### b.Add 'features' in the dictionary"
   ]
  },
  {
   "cell_type": "code",
   "execution_count": 4,
   "id": "494e8d98",
   "metadata": {},
   "outputs": [
    {
     "data": {
      "text/plain": [
       "{1: 'data', 2: 'information', 3: 'features'}"
      ]
     },
     "execution_count": 4,
     "metadata": {},
     "output_type": "execute_result"
    }
   ],
   "source": [
    "myDictionary[3]='features'\n",
    "myDictionary"
   ]
  },
  {
   "cell_type": "markdown",
   "id": "a6c36d02",
   "metadata": {},
   "source": [
    "#### c. Fetch the 'data' element from the dictionary and display it in the output."
   ]
  },
  {
   "cell_type": "code",
   "execution_count": 31,
   "id": "8104228f",
   "metadata": {},
   "outputs": [
    {
     "data": {
      "text/plain": [
       "'data'"
      ]
     },
     "execution_count": 31,
     "metadata": {},
     "output_type": "execute_result"
    }
   ],
   "source": [
    "myDictionary[1]"
   ]
  },
  {
   "cell_type": "markdown",
   "id": "35ca87e9",
   "metadata": {},
   "source": [
    "#### 3.Create a tuple and add these elements 1,2,3,apple,mango in my_tuple"
   ]
  },
  {
   "cell_type": "code",
   "execution_count": 32,
   "id": "4c511741",
   "metadata": {},
   "outputs": [
    {
     "data": {
      "text/plain": [
       "(1, 2, 3, 'apple', 'mango')"
      ]
     },
     "execution_count": 32,
     "metadata": {},
     "output_type": "execute_result"
    }
   ],
   "source": [
    "my_tuple=(1,2,3,'apple','mango')\n",
    "my_tuple"
   ]
  },
  {
   "cell_type": "markdown",
   "id": "5ce0a4a8",
   "metadata": {},
   "source": [
    "#### 4.Create another tuple named numeric_tuple consisting of only integer values 10,20,30,40,50"
   ]
  },
  {
   "cell_type": "code",
   "execution_count": 33,
   "id": "5d957fb0",
   "metadata": {},
   "outputs": [],
   "source": [
    "numeric_tuple=(10,20,30,40,50)"
   ]
  },
  {
   "cell_type": "markdown",
   "id": "2fe91408",
   "metadata": {},
   "source": [
    "#### a.find the minimum value from the numeric_tuple."
   ]
  },
  {
   "cell_type": "code",
   "execution_count": 34,
   "id": "743d27f1",
   "metadata": {},
   "outputs": [
    {
     "data": {
      "text/plain": [
       "10"
      ]
     },
     "execution_count": 34,
     "metadata": {},
     "output_type": "execute_result"
    }
   ],
   "source": [
    "min(numeric_tuple)"
   ]
  },
  {
   "cell_type": "markdown",
   "id": "67f8dbff",
   "metadata": {},
   "source": [
    "#### b.Concatenate my_tuple with numeric_tuple and store the result in r1."
   ]
  },
  {
   "cell_type": "code",
   "execution_count": 36,
   "id": "9c0f31e4",
   "metadata": {},
   "outputs": [
    {
     "data": {
      "text/plain": [
       "(1, 2, 3, 'apple', 'mango', 10, 20, 30, 40, 50)"
      ]
     },
     "execution_count": 36,
     "metadata": {},
     "output_type": "execute_result"
    }
   ],
   "source": [
    "r1=my_tuple+numeric_tuple\n",
    "r1"
   ]
  },
  {
   "cell_type": "markdown",
   "id": "30a40ff1",
   "metadata": {},
   "source": [
    "#### c.Duplicate the tuple named my_tuple 2 times and store that in 'newdupli'"
   ]
  },
  {
   "cell_type": "code",
   "execution_count": 38,
   "id": "fb65a7b5",
   "metadata": {},
   "outputs": [
    {
     "data": {
      "text/plain": [
       "(1, 2, 3, 'apple', 'mango', 1, 2, 3, 'apple', 'mango')"
      ]
     },
     "execution_count": 38,
     "metadata": {},
     "output_type": "execute_result"
    }
   ],
   "source": [
    "newdupli=2*my_tuple\n",
    "newdupli"
   ]
  },
  {
   "cell_type": "markdown",
   "id": "728537bd",
   "metadata": {},
   "source": [
    "#### 5.Create 2 sets with name set1 and set2, where set1 contains {1,2,3,4,5} and set2  contains {2,3,7,6,1}"
   ]
  },
  {
   "cell_type": "markdown",
   "id": "221236fd",
   "metadata": {},
   "source": [
    "#### Perform the below operation:\n",
    "####   a.set1 union set2"
   ]
  },
  {
   "cell_type": "code",
   "execution_count": 41,
   "id": "55a72cbc",
   "metadata": {},
   "outputs": [
    {
     "name": "stdout",
     "output_type": "stream",
     "text": [
      "{1, 2, 3, 4, 5, 6, 7}\n"
     ]
    }
   ],
   "source": [
    "set1={1,2,3,4,5}\n",
    "set2={2,3,7,6,1}\n",
    "set3=set1.union(set2)\n",
    "print(set3)"
   ]
  },
  {
   "cell_type": "markdown",
   "id": "845fe0a2",
   "metadata": {},
   "source": [
    "#### b.set1 intersection set2"
   ]
  },
  {
   "cell_type": "code",
   "execution_count": 43,
   "id": "89c3a190",
   "metadata": {},
   "outputs": [
    {
     "name": "stdout",
     "output_type": "stream",
     "text": [
      "{1, 2, 3}\n"
     ]
    }
   ],
   "source": [
    "set1={1,2,3,4,5}\n",
    "set2={2,3,7,6,1}\n",
    "set4=set1.intersection(set2)\n",
    "print(set4)"
   ]
  },
  {
   "cell_type": "markdown",
   "id": "e91553e6",
   "metadata": {},
   "source": [
    "#### c.set1 difference set2"
   ]
  },
  {
   "cell_type": "code",
   "execution_count": 44,
   "id": "32ff58c8",
   "metadata": {},
   "outputs": [
    {
     "name": "stdout",
     "output_type": "stream",
     "text": [
      "{4, 5}\n"
     ]
    }
   ],
   "source": [
    "set5=set1.difference(set2)\n",
    "print(set5)"
   ]
  },
  {
   "cell_type": "code",
   "execution_count": null,
   "id": "a14d6cf0",
   "metadata": {},
   "outputs": [],
   "source": []
  }
 ],
 "metadata": {
  "kernelspec": {
   "display_name": "Python 3 (ipykernel)",
   "language": "python",
   "name": "python3"
  },
  "language_info": {
   "codemirror_mode": {
    "name": "ipython",
    "version": 3
   },
   "file_extension": ".py",
   "mimetype": "text/x-python",
   "name": "python",
   "nbconvert_exporter": "python",
   "pygments_lexer": "ipython3",
   "version": "3.9.12"
  }
 },
 "nbformat": 4,
 "nbformat_minor": 5
}
