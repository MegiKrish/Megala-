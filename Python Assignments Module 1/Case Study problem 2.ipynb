{
 "cells": [
  {
   "cell_type": "markdown",
   "id": "fe34724e",
   "metadata": {},
   "source": [
    " \n",
    "## Case Study Problem 2 – Introduction To Python\n"
   ]
  },
  {
   "cell_type": "markdown",
   "id": "f0925552",
   "metadata": {},
   "source": [
    "## 1.Tuples"
   ]
  },
  {
   "cell_type": "code",
   "execution_count": null,
   "id": "2494e3bf",
   "metadata": {},
   "outputs": [],
   "source": [
    "t1=(10,20,30)"
   ]
  },
  {
   "cell_type": "code",
   "execution_count": 2,
   "id": "458006c6",
   "metadata": {},
   "outputs": [],
   "source": [
    "t2=(40,50,60)"
   ]
  },
  {
   "cell_type": "code",
   "execution_count": 4,
   "id": "8f1bf649",
   "metadata": {},
   "outputs": [],
   "source": [
    "t_combine=t1+t2"
   ]
  },
  {
   "cell_type": "code",
   "execution_count": 5,
   "id": "59a25419",
   "metadata": {},
   "outputs": [
    {
     "data": {
      "text/plain": [
       "(10, 20, 30, 40, 50, 60)"
      ]
     },
     "execution_count": 5,
     "metadata": {},
     "output_type": "execute_result"
    }
   ],
   "source": [
    "t_combine"
   ]
  },
  {
   "cell_type": "code",
   "execution_count": 6,
   "id": "06330158",
   "metadata": {},
   "outputs": [
    {
     "data": {
      "text/plain": [
       "(10, 20, 30, 40, 50, 60)"
      ]
     },
     "execution_count": 6,
     "metadata": {},
     "output_type": "execute_result"
    }
   ],
   "source": [
    "t_combine"
   ]
  },
  {
   "cell_type": "code",
   "execution_count": 7,
   "id": "4cdba18f",
   "metadata": {},
   "outputs": [
    {
     "data": {
      "text/plain": [
       "(10, 20, 30, 40, 50, 60)"
      ]
     },
     "execution_count": 7,
     "metadata": {},
     "output_type": "execute_result"
    }
   ],
   "source": [
    "t_combine"
   ]
  },
  {
   "cell_type": "code",
   "execution_count": 12,
   "id": "da1cf0b6",
   "metadata": {},
   "outputs": [],
   "source": [
    "t_combine=(10,20,(30,40),50,60)"
   ]
  },
  {
   "cell_type": "code",
   "execution_count": 13,
   "id": "745938c6",
   "metadata": {},
   "outputs": [
    {
     "data": {
      "text/plain": [
       "30"
      ]
     },
     "execution_count": 13,
     "metadata": {},
     "output_type": "execute_result"
    }
   ],
   "source": [
    "t_combine[2][0]"
   ]
  },
  {
   "cell_type": "code",
   "execution_count": 15,
   "id": "450438e6",
   "metadata": {},
   "outputs": [],
   "source": [
    "t_combine=t1"
   ]
  },
  {
   "cell_type": "code",
   "execution_count": 16,
   "id": "238e7a41",
   "metadata": {},
   "outputs": [
    {
     "data": {
      "text/plain": [
       "(10, 20, 30)"
      ]
     },
     "execution_count": 16,
     "metadata": {},
     "output_type": "execute_result"
    }
   ],
   "source": [
    "t_combine"
   ]
  },
  {
   "cell_type": "code",
   "execution_count": 17,
   "id": "1203dd80",
   "metadata": {},
   "outputs": [],
   "source": [
    "t_combine=t2"
   ]
  },
  {
   "cell_type": "code",
   "execution_count": 18,
   "id": "9fcf2219",
   "metadata": {},
   "outputs": [
    {
     "data": {
      "text/plain": [
       "(40, 50, 60)"
      ]
     },
     "execution_count": 18,
     "metadata": {},
     "output_type": "execute_result"
    }
   ],
   "source": [
    "t_combine"
   ]
  },
  {
   "cell_type": "markdown",
   "id": "60f524d5",
   "metadata": {},
   "source": [
    "## 2.List"
   ]
  },
  {
   "cell_type": "code",
   "execution_count": 19,
   "id": "d88eb743",
   "metadata": {},
   "outputs": [],
   "source": [
    "my_list=[(1,2,3),(\"a,b,c\"),(True,False)]"
   ]
  },
  {
   "cell_type": "code",
   "execution_count": 20,
   "id": "407ecc31",
   "metadata": {},
   "outputs": [
    {
     "data": {
      "text/plain": [
       "[(1, 2, 3), 'a,b,c', (True, False)]"
      ]
     },
     "execution_count": 20,
     "metadata": {},
     "output_type": "execute_result"
    }
   ],
   "source": [
    "my_list"
   ]
  },
  {
   "cell_type": "markdown",
   "id": "7580549e",
   "metadata": {},
   "source": [
    "## 3.Append"
   ]
  },
  {
   "cell_type": "code",
   "execution_count": 22,
   "id": "492b98c9",
   "metadata": {},
   "outputs": [],
   "source": [
    "t=(1,'a',True)"
   ]
  },
  {
   "cell_type": "code",
   "execution_count": 23,
   "id": "246beee7",
   "metadata": {},
   "outputs": [],
   "source": [
    "my_list.append(t)"
   ]
  },
  {
   "cell_type": "code",
   "execution_count": 24,
   "id": "7bf2a3ea",
   "metadata": {},
   "outputs": [
    {
     "data": {
      "text/plain": [
       "[(1, 2, 3), 'a,b,c', (True, False), (1, 'a', True)]"
      ]
     },
     "execution_count": 24,
     "metadata": {},
     "output_type": "execute_result"
    }
   ],
   "source": [
    "my_list"
   ]
  },
  {
   "cell_type": "code",
   "execution_count": 25,
   "id": "2944d066",
   "metadata": {},
   "outputs": [],
   "source": [
    "l=[\"sparta\",123]"
   ]
  },
  {
   "cell_type": "code",
   "execution_count": 26,
   "id": "f6ab7f80",
   "metadata": {},
   "outputs": [],
   "source": [
    "my_list.append(l)"
   ]
  },
  {
   "cell_type": "code",
   "execution_count": 27,
   "id": "a4f1c74e",
   "metadata": {},
   "outputs": [
    {
     "data": {
      "text/plain": [
       "[(1, 2, 3), 'a,b,c', (True, False), (1, 'a', True), ['sparta', 123]]"
      ]
     },
     "execution_count": 27,
     "metadata": {},
     "output_type": "execute_result"
    }
   ],
   "source": [
    "my_list"
   ]
  },
  {
   "cell_type": "markdown",
   "id": "462c4058",
   "metadata": {},
   "source": [
    "## 4.Dictionary"
   ]
  },
  {
   "cell_type": "code",
   "execution_count": 7,
   "id": "95e929a6",
   "metadata": {},
   "outputs": [
    {
     "name": "stdout",
     "output_type": "stream",
     "text": [
      "{'Fruit': ('Apple', 'Banana', 'Mango', 'Guava'), 'Cost': (85, 54, 120, 70)}\n"
     ]
    }
   ],
   "source": [
    "fruit={'Fruit':(\"Apple\",\"Banana\",\"Mango\",\"Guava\"),'Cost':(85,54,120,70)}\n",
    "print(fruit)"
   ]
  },
  {
   "cell_type": "code",
   "execution_count": 8,
   "id": "12dc3041",
   "metadata": {},
   "outputs": [
    {
     "data": {
      "text/plain": [
       "('Apple', 'Banana', 'Mango', 'Guava')"
      ]
     },
     "execution_count": 8,
     "metadata": {},
     "output_type": "execute_result"
    }
   ],
   "source": [
    "fruit['Fruit']"
   ]
  },
  {
   "cell_type": "code",
   "execution_count": 9,
   "id": "680912e1",
   "metadata": {},
   "outputs": [
    {
     "data": {
      "text/plain": [
       "(85, 54, 120, 70)"
      ]
     },
     "execution_count": 9,
     "metadata": {},
     "output_type": "execute_result"
    }
   ],
   "source": [
    "fruit['Cost']"
   ]
  },
  {
   "cell_type": "code",
   "execution_count": 15,
   "id": "2a530453",
   "metadata": {},
   "outputs": [
    {
     "data": {
      "text/plain": [
       "dict_keys(['Fruit', 'Cost'])"
      ]
     },
     "execution_count": 15,
     "metadata": {},
     "output_type": "execute_result"
    }
   ],
   "source": [
    "fruit.keys()"
   ]
  },
  {
   "cell_type": "code",
   "execution_count": 16,
   "id": "f9424688",
   "metadata": {},
   "outputs": [
    {
     "data": {
      "text/plain": [
       "dict_values([('Apple', 'Banana', 'Mango', 'Guava'), (85, 54, 120, 70)])"
      ]
     },
     "execution_count": 16,
     "metadata": {},
     "output_type": "execute_result"
    }
   ],
   "source": [
    "fruit.values()"
   ]
  },
  {
   "cell_type": "markdown",
   "id": "49587ea3",
   "metadata": {},
   "source": [
    "## 5.Set"
   ]
  },
  {
   "cell_type": "code",
   "execution_count": 33,
   "id": "8fa06370",
   "metadata": {},
   "outputs": [],
   "source": [
    "my_set={1,1,\"a\",\"a\",True,True}"
   ]
  },
  {
   "cell_type": "code",
   "execution_count": 34,
   "id": "09370caa",
   "metadata": {},
   "outputs": [
    {
     "name": "stdout",
     "output_type": "stream",
     "text": [
      "{1, 'a'}\n"
     ]
    }
   ],
   "source": [
    "print(my_set)"
   ]
  },
  {
   "cell_type": "code",
   "execution_count": null,
   "id": "2cec0836",
   "metadata": {},
   "outputs": [],
   "source": []
  }
 ],
 "metadata": {
  "kernelspec": {
   "display_name": "Python 3 (ipykernel)",
   "language": "python",
   "name": "python3"
  },
  "language_info": {
   "codemirror_mode": {
    "name": "ipython",
    "version": 3
   },
   "file_extension": ".py",
   "mimetype": "text/x-python",
   "name": "python",
   "nbconvert_exporter": "python",
   "pygments_lexer": "ipython3",
   "version": "3.9.12"
  }
 },
 "nbformat": 4,
 "nbformat_minor": 5
}
