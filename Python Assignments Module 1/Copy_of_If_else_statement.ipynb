{
  "nbformat": 4,
  "nbformat_minor": 0,
  "metadata": {
    "colab": {
      "provenance": []
    },
    "kernelspec": {
      "name": "python3",
      "display_name": "Python 3"
    },
    "language_info": {
      "name": "python"
    }
  },
  "cells": [
    {
      "cell_type": "code",
      "execution_count": null,
      "metadata": {
        "colab": {
          "base_uri": "https://localhost:8080/"
        },
        "id": "FP5hEU4-8aWq",
        "outputId": "4ff1fa9f-63de-411f-af97-050767657bec"
      },
      "outputs": [
        {
          "output_type": "stream",
          "name": "stdout",
          "text": [
            "b is greater\n"
          ]
        }
      ],
      "source": [
        "a=10\n",
        "b=20\n",
        "if(a>b):\n",
        "  print('a is greater')\n",
        "else:\n",
        "  print('b is greater')"
      ]
    }
  ]
}