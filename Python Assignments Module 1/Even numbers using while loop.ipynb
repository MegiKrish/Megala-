{
 "cells": [
  {
   "cell_type": "markdown",
   "id": "ed5b7d02",
   "metadata": {},
   "source": [
    "## Print Even numbers in a given list using while loop"
   ]
  },
  {
   "cell_type": "code",
   "execution_count": 1,
   "id": "4bd48d7a",
   "metadata": {},
   "outputs": [
    {
     "name": "stdout",
     "output_type": "stream",
     "text": [
      "The Even numbers are 10\n",
      "The Even numbers are 4\n",
      "The Even numbers are 26\n",
      "The Even numbers are 4\n",
      "The Even numbers are 24\n",
      "The Even numbers are 54\n"
     ]
    }
   ],
   "source": [
    "a=[10,23,4,26,4,75,24,54]\n",
    "index=0\n",
    "x=0\n",
    "while index<len(a):\n",
    "    x=a[index]\n",
    "    if x % 2 == 0:\n",
    "        print(\"The Even numbers are\",x)\n",
    "    index += 1   "
   ]
  },
  {
   "cell_type": "code",
   "execution_count": null,
   "id": "ebb5e46f",
   "metadata": {},
   "outputs": [],
   "source": []
  }
 ],
 "metadata": {
  "kernelspec": {
   "display_name": "Python 3 (ipykernel)",
   "language": "python",
   "name": "python3"
  },
  "language_info": {
   "codemirror_mode": {
    "name": "ipython",
    "version": 3
   },
   "file_extension": ".py",
   "mimetype": "text/x-python",
   "name": "python",
   "nbconvert_exporter": "python",
   "pygments_lexer": "ipython3",
   "version": "3.9.12"
  }
 },
 "nbformat": 4,
 "nbformat_minor": 5
}
