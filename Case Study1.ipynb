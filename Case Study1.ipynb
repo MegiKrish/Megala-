{
 "cells": [
  {
   "cell_type": "markdown",
   "id": "86765eaf",
   "metadata": {},
   "source": [
    "## Case Study 1:"
   ]
  },
  {
   "cell_type": "markdown",
   "id": "f0d66c10",
   "metadata": {},
   "source": [
    "## 1.Squares of Numbers "
   ]
  },
  {
   "cell_type": "code",
   "execution_count": 2,
   "id": "04b288ac",
   "metadata": {},
   "outputs": [
    {
     "name": "stdout",
     "output_type": "stream",
     "text": [
      "[1, 4, 9, 16, 25, 36, 49, 64, 81, 100]\n"
     ]
    }
   ],
   "source": [
    "squares=[a**2 for a in range(1,11)]\n",
    "print(squares)"
   ]
  },
  {
   "cell_type": "markdown",
   "id": "3926be7c",
   "metadata": {},
   "source": [
    "## 2.Check if year number is a Leap year"
   ]
  },
  {
   "cell_type": "code",
   "execution_count": 3,
   "id": "07e01b32",
   "metadata": {},
   "outputs": [
    {
     "name": "stdout",
     "output_type": "stream",
     "text": [
      "Enter the year:2020\n",
      "2020 is a leap year\n"
     ]
    }
   ],
   "source": [
    "year=int(input(\"Enter the year:\"))\n",
    "if(year%4==0):\n",
    "    if(year%100==0):\n",
    "        if(year%400==0):\n",
    "            print('%0.0f is a leap year' % year)\n",
    "        else:\n",
    "            print('0.0f is not a leap year' % year)\n",
    "    else:\n",
    "        print('%0.0f is a leap year' % year)\n",
    "else:\n",
    "    print('0.0f is not a leap year' % year)"
   ]
  },
  {
   "cell_type": "markdown",
   "id": "026b9166",
   "metadata": {},
   "source": [
    "## 3.Members of first array that are Even"
   ]
  },
  {
   "cell_type": "code",
   "execution_count": 52,
   "id": "1a3c4233",
   "metadata": {},
   "outputs": [
    {
     "name": "stdout",
     "output_type": "stream",
     "text": [
      "Enter length of list:5\n",
      "Enter value:8\n",
      "Enter value:5\n",
      "Enter value:3\n",
      "Enter value:2\n",
      "Enter value:6\n",
      "Even Number List is: [8, 2, 6]\n"
     ]
    }
   ],
   "source": [
    "def findEvenNo(lst):\n",
    "    ans=[]\n",
    "    for i in lst:\n",
    "        if(i%2==0):\n",
    "            ans.append(i)\n",
    "    return ans\n",
    "if(__name__==\"__main__\"):\n",
    "    lst=[]\n",
    "    n=int(input(\"Enter length of list:\"))\n",
    "    i=0\n",
    "    while(i<n):\n",
    "        try:\n",
    "            lst.append(int(input(\"Enter value:\")))\n",
    "            i+=1\n",
    "        except Exception as ex:\n",
    "            print(\"Error:\",ex)\n",
    "    print(\"Even Number List is:\",findEvenNo(lst))"
   ]
  },
  {
   "cell_type": "markdown",
   "id": "53e8da83",
   "metadata": {},
   "source": [
    "## 4.Members of First array that are present in Second array"
   ]
  },
  {
   "cell_type": "code",
   "execution_count": 53,
   "id": "8f549ebe",
   "metadata": {},
   "outputs": [
    {
     "name": "stdout",
     "output_type": "stream",
     "text": [
      "[25, 10, 15]\n"
     ]
    }
   ],
   "source": [
    "lst_1=[5,10,15,20,25]\n",
    "lst_2=[10,15,25]\n",
    "diff=set(lst_1) & set(lst_2)\n",
    "print(list(diff))\n"
   ]
  },
  {
   "cell_type": "code",
   "execution_count": null,
   "id": "7fc4b758",
   "metadata": {},
   "outputs": [],
   "source": []
  }
 ],
 "metadata": {
  "kernelspec": {
   "display_name": "Python 3 (ipykernel)",
   "language": "python",
   "name": "python3"
  },
  "language_info": {
   "codemirror_mode": {
    "name": "ipython",
    "version": 3
   },
   "file_extension": ".py",
   "mimetype": "text/x-python",
   "name": "python",
   "nbconvert_exporter": "python",
   "pygments_lexer": "ipython3",
   "version": "3.9.12"
  }
 },
 "nbformat": 4,
 "nbformat_minor": 5
}
