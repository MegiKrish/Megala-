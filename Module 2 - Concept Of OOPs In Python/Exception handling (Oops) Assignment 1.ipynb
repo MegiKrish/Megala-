{
 "cells": [
  {
   "cell_type": "markdown",
   "id": "89e9bdcd",
   "metadata": {},
   "source": [
    "## Assignment - 1 - Exception Handling"
   ]
  },
  {
   "cell_type": "markdown",
   "id": "52a9efe6",
   "metadata": {},
   "source": [
    "#### 1.with the help of try and inbuilt exception,display the exception"
   ]
  },
  {
   "cell_type": "code",
   "execution_count": 3,
   "id": "ecc100d0",
   "metadata": {},
   "outputs": [],
   "source": [
    "def throw_exception(num):\n",
    "    if(num==0): \n",
    "        raise Exception(\"Arguement 0 is not accepted\")\n",
    "    else:\n",
    "        print(num)"
   ]
  },
  {
   "cell_type": "code",
   "execution_count": 4,
   "id": "fd38c6bb",
   "metadata": {},
   "outputs": [
    {
     "name": "stdout",
     "output_type": "stream",
     "text": [
      "Arguement 0 is not accepted\n",
      "Done\n"
     ]
    }
   ],
   "source": [
    "try:\n",
    "    throw_exception(0)\n",
    "except Exception as ex:\n",
    "    print(ex)\n",
    "else:\n",
    "    print(\"Not Thrown\")\n",
    "finally:\n",
    "    print(\"Done\")"
   ]
  },
  {
   "cell_type": "markdown",
   "id": "0aa8f6ce",
   "metadata": {},
   "source": [
    "#### 2.Take two user inputs and pass those input variables in a try block.If the user input is 0,then throw the ZeroDivisionError exception."
   ]
  },
  {
   "cell_type": "code",
   "execution_count": 6,
   "id": "ff6d0a07",
   "metadata": {},
   "outputs": [
    {
     "name": "stdout",
     "output_type": "stream",
     "text": [
      "Error: division by zero\n"
     ]
    }
   ],
   "source": [
    "try:\n",
    "    a=10\n",
    "    b=0\n",
    "    c=a/b\n",
    "    print(c)\n",
    "except ZeroDivisionError as e:\n",
    "    print(\"Error:\",e)"
   ]
  },
  {
   "cell_type": "markdown",
   "id": "e80b924b",
   "metadata": {},
   "source": [
    "#### 3.Import Math package and with the help of math package,print - math.exp(50000).Now use the inbuilt OverFlowErrorexception on the math.exp(),and print the exception."
   ]
  },
  {
   "cell_type": "code",
   "execution_count": 7,
   "id": "b17c0ca9",
   "metadata": {},
   "outputs": [
    {
     "ename": "OverflowError",
     "evalue": "math range error",
     "output_type": "error",
     "traceback": [
      "\u001b[1;31m---------------------------------------------------------------------------\u001b[0m",
      "\u001b[1;31mOverflowError\u001b[0m                             Traceback (most recent call last)",
      "Input \u001b[1;32mIn [7]\u001b[0m, in \u001b[0;36m<cell line: 2>\u001b[1;34m()\u001b[0m\n\u001b[0;32m      1\u001b[0m \u001b[38;5;28;01mimport\u001b[39;00m \u001b[38;5;21;01mmath\u001b[39;00m\n\u001b[1;32m----> 2\u001b[0m answer\u001b[38;5;241m=\u001b[39m\u001b[43mmath\u001b[49m\u001b[38;5;241;43m.\u001b[39;49m\u001b[43mexp\u001b[49m\u001b[43m(\u001b[49m\u001b[38;5;241;43m50000\u001b[39;49m\u001b[43m)\u001b[49m\n\u001b[0;32m      3\u001b[0m \u001b[38;5;28mprint\u001b[39m(answer)\n",
      "\u001b[1;31mOverflowError\u001b[0m: math range error"
     ]
    }
   ],
   "source": [
    "import math\n",
    "answer=math.exp(50000)\n",
    "print(answer)"
   ]
  },
  {
   "cell_type": "markdown",
   "id": "e8b4cbf9",
   "metadata": {},
   "source": [
    "#### 4.Now install the 'termcolor' package in the anaconda prompt,and import that package to provide the colors to the print statement in Jupyter Notebook."
   ]
  },
  {
   "cell_type": "code",
   "execution_count": 8,
   "id": "959e56e0",
   "metadata": {},
   "outputs": [
    {
     "name": "stdout",
     "output_type": "stream",
     "text": [
      "Requirement already satisfied: termcolor in c:\\users\\megik\\anaconda3\\lib\\site-packages (2.0.1)\n"
     ]
    }
   ],
   "source": [
    "!pip install termcolor"
   ]
  },
  {
   "cell_type": "code",
   "execution_count": 16,
   "id": "163b0d9e",
   "metadata": {},
   "outputs": [
    {
     "name": "stdout",
     "output_type": "stream",
     "text": [
      "\u001b[2m\u001b[44m\u001b[37mPYTHON PROGRAMMING\u001b[0m\n",
      "\u001b[7m\u001b[44m\u001b[33mPYTHON PROGRAMMING\u001b[0m\n"
     ]
    }
   ],
   "source": [
    "import sys\n",
    "from termcolor import colored,cprint\n",
    "text=colored(\"PYTHON PROGRAMMING\",\"white\",\"on_blue\",attrs=['dark'])\n",
    "print(text)\n",
    "cprint(\"PYTHON PROGRAMMING\",\"yellow\",\"on_blue\",attrs=['reverse'])"
   ]
  },
  {
   "cell_type": "markdown",
   "id": "2493456d",
   "metadata": {},
   "source": [
    "#### 5.Create your own exception with the help of class and functions."
   ]
  },
  {
   "cell_type": "code",
   "execution_count": 17,
   "id": "92f01394",
   "metadata": {},
   "outputs": [],
   "source": [
    "class MyException(Exception):\n",
    "    def __init__(self):\n",
    "        super(Exception,self).__init__()\n",
    "        self.args=(\"Raised MyException\",)"
   ]
  },
  {
   "cell_type": "code",
   "execution_count": 18,
   "id": "eb2443a9",
   "metadata": {},
   "outputs": [
    {
     "name": "stdout",
     "output_type": "stream",
     "text": [
      "Raised MyException\n"
     ]
    }
   ],
   "source": [
    "try:\n",
    "    raise MyException()\n",
    "except MyException as ex:\n",
    "    print(ex)"
   ]
  },
  {
   "cell_type": "code",
   "execution_count": null,
   "id": "7f28795b",
   "metadata": {},
   "outputs": [],
   "source": []
  }
 ],
 "metadata": {
  "kernelspec": {
   "display_name": "Python 3 (ipykernel)",
   "language": "python",
   "name": "python3"
  },
  "language_info": {
   "codemirror_mode": {
    "name": "ipython",
    "version": 3
   },
   "file_extension": ".py",
   "mimetype": "text/x-python",
   "name": "python",
   "nbconvert_exporter": "python",
   "pygments_lexer": "ipython3",
   "version": "3.9.12"
  }
 },
 "nbformat": 4,
 "nbformat_minor": 5
}
