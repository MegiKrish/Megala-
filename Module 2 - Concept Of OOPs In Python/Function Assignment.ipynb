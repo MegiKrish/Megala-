{
 "cells": [
  {
   "cell_type": "markdown",
   "id": "9c2be86a",
   "metadata": {},
   "source": [
    "## Function Assignment"
   ]
  },
  {
   "cell_type": "markdown",
   "id": "e9f5559d",
   "metadata": {},
   "source": [
    "1.Create a class named 'Super' and inside that class define a user defined function named fun1.\n",
    "    a.Inside the 'fun1' function,pass the message \"This is function 1 in the Super class\".in the print statement."
   ]
  },
  {
   "cell_type": "code",
   "execution_count": 3,
   "id": "79b131ae",
   "metadata": {},
   "outputs": [],
   "source": [
    "class Super :\n",
    "    def fun1(self):\n",
    "        print(\"This is function 1 in the Super class\")"
   ]
  },
  {
   "cell_type": "code",
   "execution_count": 8,
   "id": "e26db570",
   "metadata": {},
   "outputs": [
    {
     "name": "stdout",
     "output_type": "stream",
     "text": [
      "This is function 1 in the Super class\n"
     ]
    }
   ],
   "source": [
    "o=Super()\n",
    "o.fun1()"
   ]
  },
  {
   "cell_type": "markdown",
   "id": "e3013671",
   "metadata": {},
   "source": [
    "2.Create another class named 'Modified_Super' and inherit this class from the Super class."
   ]
  },
  {
   "cell_type": "markdown",
   "id": "aff442c3",
   "metadata": {},
   "source": [
    "a.Inside the Modified_Super class,create a function named 'fun1' and pass the following message inside the print statement:'This is function 1 in the Modified Super class'."
   ]
  },
  {
   "cell_type": "code",
   "execution_count": 9,
   "id": "995cee2a",
   "metadata": {},
   "outputs": [],
   "source": [
    "class Modified_Super(Super) :\n",
    "    def fun1(self):\n",
    "        print(\"This is function 1 in the Modified Super class\")"
   ]
  },
  {
   "cell_type": "code",
   "execution_count": 10,
   "id": "37195f60",
   "metadata": {},
   "outputs": [
    {
     "name": "stdout",
     "output_type": "stream",
     "text": [
      "This is function 1 in the Modified Super class\n"
     ]
    }
   ],
   "source": [
    "o=Modified_Super()\n",
    "o.fun1()"
   ]
  },
  {
   "cell_type": "markdown",
   "id": "3975e08b",
   "metadata": {},
   "source": [
    "b.Create another user-defined function named 'fun2' and pass the message:'This is the 2 function from the Modified Super class' in the  print statement."
   ]
  },
  {
   "cell_type": "code",
   "execution_count": 11,
   "id": "033c8042",
   "metadata": {},
   "outputs": [],
   "source": [
    "class Modified_Super:\n",
    "    def fun2(self):\n",
    "        print('This is the 2 function from the Modified Super class')"
   ]
  },
  {
   "cell_type": "code",
   "execution_count": 12,
   "id": "cb0e15f3",
   "metadata": {},
   "outputs": [
    {
     "name": "stdout",
     "output_type": "stream",
     "text": [
      "This is the 2 function from the Modified Super class\n"
     ]
    }
   ],
   "source": [
    "o=Modified_Super()\n",
    "o.fun2()"
   ]
  },
  {
   "cell_type": "markdown",
   "id": "79d83f0c",
   "metadata": {},
   "source": [
    "c.After that,now create an object for the Modified_Super class and call the fun1()."
   ]
  },
  {
   "cell_type": "code",
   "execution_count": 14,
   "id": "b832be8a",
   "metadata": {},
   "outputs": [
    {
     "name": "stdout",
     "output_type": "stream",
     "text": [
      "This is function 1 in the Modified Super class\n"
     ]
    }
   ],
   "source": [
    "class Modified_Super(Super) :\n",
    "    def fun1(self):\n",
    "        print(\"This is function 1 in the Modified Super class\")\n",
    "o=Modified_Super()\n",
    "o.fun1()"
   ]
  },
  {
   "cell_type": "markdown",
   "id": "ef3f4b32",
   "metadata": {},
   "source": [
    "3.Create 2 methods named 'Hello'.In the 1st Hello method,pass only one argument and pass this message:'This function is only having 1 argument'. And in the 2nd Hello method,pass two arguments and pass this message:'This function is having 2 arguments'."
   ]
  },
  {
   "cell_type": "markdown",
   "id": "63fee555",
   "metadata": {},
   "source": [
    "a.Try to call both the methods and analyze the output of both the methods."
   ]
  },
  {
   "cell_type": "code",
   "execution_count": 15,
   "id": "614bb800",
   "metadata": {},
   "outputs": [],
   "source": [
    "def Hello1(a):\n",
    "        print('This function is only having 1 argument')\n",
    "def Hello2(x,y):\n",
    "        print('This function is having 2 arguments')"
   ]
  },
  {
   "cell_type": "code",
   "execution_count": 18,
   "id": "05a396d7",
   "metadata": {},
   "outputs": [
    {
     "name": "stdout",
     "output_type": "stream",
     "text": [
      "This function is only having 1 argument\n",
      "This function is having 2 arguments\n"
     ]
    }
   ],
   "source": [
    "Hello1(5)\n",
    "Hello2(5,2)"
   ]
  },
  {
   "cell_type": "markdown",
   "id": "06550b7c",
   "metadata": {},
   "source": [
    "4.Create a method named 'Sum' that can accept multiple user inputs.Now add those user-defined input values using for loop and the function should return the addition of the numbers."
   ]
  },
  {
   "cell_type": "code",
   "execution_count": 137,
   "id": "48d2dce3",
   "metadata": {},
   "outputs": [],
   "source": [
    "class add:  \n",
    "    def Sum(self):\n",
    "        a=[5,6,7,8,9,11]\n",
    "        sum_numbers=0\n",
    "        for x in a:\n",
    "            sum_numbers+=x\n",
    "        print(sum_numbers)\n",
    "       "
   ]
  },
  {
   "cell_type": "code",
   "execution_count": 138,
   "id": "eed0c9b8",
   "metadata": {},
   "outputs": [
    {
     "name": "stdout",
     "output_type": "stream",
     "text": [
      "46\n"
     ]
    }
   ],
   "source": [
    "o1=add()\n",
    "o1.Sum()"
   ]
  },
  {
   "cell_type": "markdown",
   "id": "7fe8adf4",
   "metadata": {},
   "source": [
    "5.Create a class named 'Encapsulation':"
   ]
  },
  {
   "cell_type": "markdown",
   "id": "8b4b6f10",
   "metadata": {},
   "source": [
    "a.Inside the class,first create a constructor.Inside the constructor,initialize originalValue variable as 10."
   ]
  },
  {
   "cell_type": "markdown",
   "id": "83b6c870",
   "metadata": {},
   "source": [
    "b.After creating the constructor,define a function named 'Value' and this function should return the variable that we have initialized in the constructor."
   ]
  },
  {
   "cell_type": "markdown",
   "id": "b41ae9b6",
   "metadata": {},
   "source": [
    "c.Now create 2nd function named setValue, and pass an argument named 'newValue'.The task of this function will be to replace the value of the originalValue variable by the value of newValue variable."
   ]
  },
  {
   "cell_type": "code",
   "execution_count": 6,
   "id": "53b5d600",
   "metadata": {},
   "outputs": [],
   "source": [
    "class Encapsulation:\n",
    "    def __init__(self):\n",
    "        self.originalValue=10\n",
    "    def Value(self):\n",
    "        print(self.originalValue)\n",
    "    def setValue(self):\n",
    "        self.newValue=self.originalValue\n",
    "        print('The value is:',self.newValue)"
   ]
  },
  {
   "cell_type": "code",
   "execution_count": 7,
   "id": "b319579d",
   "metadata": {},
   "outputs": [
    {
     "name": "stdout",
     "output_type": "stream",
     "text": [
      "The value is: 10\n"
     ]
    }
   ],
   "source": [
    "d=Encapsulation()\n",
    "d.setValue()\n"
   ]
  },
  {
   "cell_type": "code",
   "execution_count": null,
   "id": "061d9194",
   "metadata": {},
   "outputs": [],
   "source": []
  }
 ],
 "metadata": {
  "kernelspec": {
   "display_name": "Python 3 (ipykernel)",
   "language": "python",
   "name": "python3"
  },
  "language_info": {
   "codemirror_mode": {
    "name": "ipython",
    "version": 3
   },
   "file_extension": ".py",
   "mimetype": "text/x-python",
   "name": "python",
   "nbconvert_exporter": "python",
   "pygments_lexer": "ipython3",
   "version": "3.9.12"
  }
 },
 "nbformat": 4,
 "nbformat_minor": 5
}
