{
 "cells": [
  {
   "cell_type": "markdown",
   "id": "8d34cb3d",
   "metadata": {},
   "source": [
    "## Import Assignment"
   ]
  },
  {
   "cell_type": "markdown",
   "id": "2639c17c",
   "metadata": {},
   "source": [
    "1.Open a new python file and import the Module.py file."
   ]
  },
  {
   "cell_type": "markdown",
   "id": "088bbb53",
   "metadata": {},
   "source": [
    "a.Now call the 4 methods from the Module.py file ,i.e.,addition(),subtraction(),multiplication(),division()."
   ]
  },
  {
   "cell_type": "markdown",
   "id": "eabe3dc9",
   "metadata": {},
   "source": [
    "2.From the Module file,import only the addition() and pass the arguments so that it can display the result from the method."
   ]
  },
  {
   "cell_type": "code",
   "execution_count": 6,
   "id": "59e2dde2",
   "metadata": {},
   "outputs": [
    {
     "name": "stdout",
     "output_type": "stream",
     "text": [
      "16\n"
     ]
    }
   ],
   "source": [
    "from Module import add\n",
    "print(add(7,9))"
   ]
  },
  {
   "cell_type": "markdown",
   "id": "fff3455d",
   "metadata": {},
   "source": [
    "3.From the Module file,import only the subtraction() and pass the arguments so that it can display the result from the method."
   ]
  },
  {
   "cell_type": "code",
   "execution_count": 2,
   "id": "a02e67f3",
   "metadata": {},
   "outputs": [
    {
     "name": "stdout",
     "output_type": "stream",
     "text": [
      "2\n"
     ]
    }
   ],
   "source": [
    "from Module import subtract\n",
    "print(subtract(9,7))"
   ]
  },
  {
   "cell_type": "markdown",
   "id": "02a2a480",
   "metadata": {},
   "source": [
    "4.From the Module file,import both the multiplication() and division() and pass the arguments so that it can display the result from the methods."
   ]
  },
  {
   "cell_type": "code",
   "execution_count": 7,
   "id": "2230b518",
   "metadata": {},
   "outputs": [
    {
     "name": "stdout",
     "output_type": "stream",
     "text": [
      "63\n",
      "5.0\n"
     ]
    }
   ],
   "source": [
    "from Module import Multiply,div \n",
    "print(Multiply(7,9))\n",
    "print(div(10,2))"
   ]
  },
  {
   "cell_type": "code",
   "execution_count": 5,
   "id": "5caf4ea8",
   "metadata": {},
   "outputs": [
    {
     "name": "stdout",
     "output_type": "stream",
     "text": [
      "16\n",
      "2\n",
      "63\n",
      "5.0\n"
     ]
    }
   ],
   "source": [
    "import Module\n",
    "print(Module.add(7,9))\n",
    "print(Module.subtract(9,7))\n",
    "print(Module.Multiply(7,9))\n",
    "print(Module.div(10,2))"
   ]
  },
  {
   "cell_type": "code",
   "execution_count": null,
   "id": "5e19f9fc",
   "metadata": {},
   "outputs": [],
   "source": []
  }
 ],
 "metadata": {
  "kernelspec": {
   "display_name": "Python 3 (ipykernel)",
   "language": "python",
   "name": "python3"
  },
  "language_info": {
   "codemirror_mode": {
    "name": "ipython",
    "version": 3
   },
   "file_extension": ".py",
   "mimetype": "text/x-python",
   "name": "python",
   "nbconvert_exporter": "python",
   "pygments_lexer": "ipython3",
   "version": "3.9.12"
  }
 },
 "nbformat": 4,
 "nbformat_minor": 5
}
