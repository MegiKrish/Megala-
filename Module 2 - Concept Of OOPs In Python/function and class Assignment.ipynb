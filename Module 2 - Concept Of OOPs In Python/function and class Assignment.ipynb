{
 "cells": [
  {
   "cell_type": "markdown",
   "id": "669adc9b",
   "metadata": {},
   "source": [
    "## Function and Class Assignment"
   ]
  },
  {
   "cell_type": "markdown",
   "id": "c755b32d",
   "metadata": {},
   "source": [
    "1.Create a function named 'factor' that can only accepts 1 argument.The function should return the factorial of that number."
   ]
  },
  {
   "cell_type": "code",
   "execution_count": 1,
   "id": "0a3b4533",
   "metadata": {},
   "outputs": [
    {
     "name": "stdout",
     "output_type": "stream",
     "text": [
      "6\n",
      "720\n"
     ]
    }
   ],
   "source": [
    "# Factorial program\n",
    "def fact(n):\n",
    "    if n==1:\n",
    "        return 1\n",
    "    else:\n",
    "        return n*fact(n-1)\n",
    "n=int(input())\n",
    "print(fact(n))"
   ]
  },
  {
   "cell_type": "markdown",
   "id": "1d06b43e",
   "metadata": {},
   "source": [
    "2.Create a function named 'check_string',the function should accept a string data from the user and the function should check if the user input contains the letter 's' in it.if it contains the letter 's' then print - 'The string is containing the letter 's'',if not then print - 'The string doesn't contain the letter 's''."
   ]
  },
  {
   "cell_type": "code",
   "execution_count": 5,
   "id": "b57c1f3e",
   "metadata": {},
   "outputs": [],
   "source": [
    "def check_string():\n",
    "    S=str(input())\n",
    "    if S.find('s'):\n",
    "        print(\"The string doesn't contain the letter 's'\")\n",
    "    else:\n",
    "        print(\"The string is containing the letter 's'\" ) \n",
    "    "
   ]
  },
  {
   "cell_type": "code",
   "execution_count": 6,
   "id": "8e7846b3",
   "metadata": {},
   "outputs": [
    {
     "name": "stdout",
     "output_type": "stream",
     "text": [
      "stress\n",
      "The string is containing the letter 's'\n",
      "None\n"
     ]
    }
   ],
   "source": [
    "print(check_string())"
   ]
  },
  {
   "cell_type": "code",
   "execution_count": 7,
   "id": "db34358c",
   "metadata": {},
   "outputs": [
    {
     "name": "stdout",
     "output_type": "stream",
     "text": [
      "python\n",
      "The string doesn't contain the letter 's'\n",
      "None\n"
     ]
    }
   ],
   "source": [
    "print(check_string())"
   ]
  },
  {
   "cell_type": "markdown",
   "id": "b57990b5",
   "metadata": {},
   "source": [
    "3.Create a class named 'student' and inside the class,create a function named 'fun1' - this method should accepts the user defined input and return the value."
   ]
  },
  {
   "cell_type": "markdown",
   "id": "2c866abf",
   "metadata": {},
   "source": [
    "a.Create another method named - message() and that method should print the user defined input that we have defined in 'fun1'."
   ]
  },
  {
   "cell_type": "code",
   "execution_count": 60,
   "id": "b1b72168",
   "metadata": {},
   "outputs": [],
   "source": [
    "class student:\n",
    "    def fun1(self,a,b):\n",
    "        self.a=a\n",
    "        self.b=b\n",
    "        return a*b\n",
    "    def message(self):\n",
    "        print(self.a,self.b)"
   ]
  },
  {
   "cell_type": "code",
   "execution_count": 61,
   "id": "94c64da5",
   "metadata": {},
   "outputs": [
    {
     "data": {
      "text/plain": [
       "360"
      ]
     },
     "execution_count": 61,
     "metadata": {},
     "output_type": "execute_result"
    }
   ],
   "source": [
    "obj1=student()\n",
    "obj1.fun1(90,4)"
   ]
  },
  {
   "cell_type": "code",
   "execution_count": 62,
   "id": "1ff9c88f",
   "metadata": {},
   "outputs": [
    {
     "name": "stdout",
     "output_type": "stream",
     "text": [
      "90 4\n"
     ]
    }
   ],
   "source": [
    "obj1.message()        "
   ]
  },
  {
   "cell_type": "markdown",
   "id": "ebb425ab",
   "metadata": {},
   "source": [
    "4.Create a lambda function that should double or multiply the number (that we will be passing in the lambda function) by 2.Store the lambda function in a variable named 'double_num'."
   ]
  },
  {
   "cell_type": "code",
   "execution_count": 31,
   "id": "6e12a284",
   "metadata": {},
   "outputs": [
    {
     "name": "stdout",
     "output_type": "stream",
     "text": [
      "20\n"
     ]
    }
   ],
   "source": [
    "double_num=lambda a:a*2\n",
    "print(double_num(10))\n"
   ]
  },
  {
   "cell_type": "code",
   "execution_count": 32,
   "id": "2b7a2dc2",
   "metadata": {},
   "outputs": [
    {
     "name": "stdout",
     "output_type": "stream",
     "text": [
      "16\n"
     ]
    }
   ],
   "source": [
    "double_num=lambda a,b:a*2+b\n",
    "print(double_num(7,2))\n"
   ]
  },
  {
   "cell_type": "markdown",
   "id": "5be6cf41",
   "metadata": {},
   "source": [
    "5.Take user input string and check whether that string is palindrome or not."
   ]
  },
  {
   "cell_type": "code",
   "execution_count": 2,
   "id": "4fa67387",
   "metadata": {},
   "outputs": [
    {
     "data": {
      "text/plain": [
       "False"
      ]
     },
     "execution_count": 2,
     "metadata": {},
     "output_type": "execute_result"
    }
   ],
   "source": [
    "# Check Palindrome:\n",
    "def ispalindrome(s):\n",
    "    return s==s[::-1]\n",
    "a=\"python\"\n",
    "ans=ispalindrome(a)\n",
    "ans"
   ]
  },
  {
   "cell_type": "code",
   "execution_count": 3,
   "id": "a5cd77a4",
   "metadata": {},
   "outputs": [
    {
     "data": {
      "text/plain": [
       "True"
      ]
     },
     "execution_count": 3,
     "metadata": {},
     "output_type": "execute_result"
    }
   ],
   "source": [
    "def ispalindrome(s):\n",
    "    return s==s[::-1]\n",
    "a=\"madam\"\n",
    "ans=ispalindrome(a)\n",
    "ans"
   ]
  },
  {
   "cell_type": "code",
   "execution_count": null,
   "id": "19c8298b",
   "metadata": {},
   "outputs": [],
   "source": []
  }
 ],
 "metadata": {
  "kernelspec": {
   "display_name": "Python 3 (ipykernel)",
   "language": "python",
   "name": "python3"
  },
  "language_info": {
   "codemirror_mode": {
    "name": "ipython",
    "version": 3
   },
   "file_extension": ".py",
   "mimetype": "text/x-python",
   "name": "python",
   "nbconvert_exporter": "python",
   "pygments_lexer": "ipython3",
   "version": "3.9.12"
  }
 },
 "nbformat": 4,
 "nbformat_minor": 5
}
