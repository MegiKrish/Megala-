{
 "cells": [
  {
   "cell_type": "markdown",
   "id": "b9e03085",
   "metadata": {},
   "source": [
    "## Case Study - Concept of Oops"
   ]
  },
  {
   "cell_type": "markdown",
   "id": "dc2dc794",
   "metadata": {},
   "source": [
    "1.Create a class names Employee,with a constructor '__init__' method that accepts name and salary as parameters and set properties named name and salary. "
   ]
  },
  {
   "cell_type": "markdown",
   "id": "7bdcdc31",
   "metadata": {},
   "source": [
    "2.Define __str__ method in Employee class so that when someone tries to print the object the string Name:employee_name,Salary:employee_salary is printed with the actual employee name and salary."
   ]
  },
  {
   "cell_type": "code",
   "execution_count": 15,
   "id": "fecc6e45",
   "metadata": {},
   "outputs": [],
   "source": [
    "class Employee:\n",
    "    def __init__(self,Name,Salary):\n",
    "        self.Name=Name\n",
    "        self.Salary=Salary\n",
    "          \n",
    "    def __str__(self):\n",
    "          return \"Name:\"+self.Name+\", Salary: \"+str(self.Salary)"
   ]
  },
  {
   "cell_type": "code",
   "execution_count": 16,
   "id": "43533a56",
   "metadata": {},
   "outputs": [
    {
     "name": "stdout",
     "output_type": "stream",
     "text": [
      "Name:john, Salary: 50000\n"
     ]
    }
   ],
   "source": [
    "emp1=Employee('john',50000)\n",
    "print(emp1)"
   ]
  },
  {
   "cell_type": "code",
   "execution_count": 17,
   "id": "65c90aa7",
   "metadata": {},
   "outputs": [
    {
     "name": "stdout",
     "output_type": "stream",
     "text": [
      "50000\n"
     ]
    }
   ],
   "source": [
    "print(emp1.Salary)"
   ]
  },
  {
   "cell_type": "markdown",
   "id": "e015174a",
   "metadata": {},
   "source": [
    "3.Create another class named Calculator,with methods to add,subtract,multiply and divide two numbers."
   ]
  },
  {
   "cell_type": "markdown",
   "id": "c77c4129",
   "metadata": {},
   "source": [
    "4.These method takes two numbers as parameters."
   ]
  },
  {
   "cell_type": "markdown",
   "id": "f083af95",
   "metadata": {},
   "source": [
    "5.These methods will be called by method named execute command."
   ]
  },
  {
   "cell_type": "markdown",
   "id": "f6d3dbab",
   "metadata": {},
   "source": [
    "6.Execute command takes in 3 parameters command which is string that can be either 'add','sub','mul','div',and two numbers and it will call the appropriate method based on command parameter."
   ]
  },
  {
   "cell_type": "code",
   "execution_count": 22,
   "id": "598ce593",
   "metadata": {},
   "outputs": [],
   "source": [
    "class Calculator:\n",
    "    def addtion(self,num1,num2):\n",
    "        return num1+num2\n",
    "    def subtraction(self,num1,num2):\n",
    "        return num1-num2\n",
    "    def multiplication(self,num1,num2):\n",
    "        return num1*num2\n",
    "    def division(self,num1,num2):\n",
    "        return num1//num2\n",
    "    def execute_command(self,num1,num2,command):\n",
    "        if(command.lower() == \"add\"):\n",
    "            return self.addtion(num1,num2)\n",
    "        elif(command.lower() == \"sub\"):\n",
    "            return self.subtraction(num1,num2)\n",
    "        elif(command.lower() == \"mul\"):\n",
    "            return self.multiplication(num1,num2)\n",
    "        elif(command.lower() == \"div\"):\n",
    "            return self.division(num1,num2)\n",
    "        else:\n",
    "            pass\n"
   ]
  },
  {
   "cell_type": "code",
   "execution_count": 23,
   "id": "2bf0eb42",
   "metadata": {},
   "outputs": [],
   "source": [
    "cal = Calculator()"
   ]
  },
  {
   "cell_type": "code",
   "execution_count": 28,
   "id": "810f6c36",
   "metadata": {},
   "outputs": [
    {
     "data": {
      "text/plain": [
       "5"
      ]
     },
     "execution_count": 28,
     "metadata": {},
     "output_type": "execute_result"
    }
   ],
   "source": [
    "cal.execute_command(10,2,\"div\")"
   ]
  },
  {
   "cell_type": "code",
   "execution_count": 25,
   "id": "5f162ced",
   "metadata": {},
   "outputs": [
    {
     "data": {
      "text/plain": [
       "20"
      ]
     },
     "execution_count": 25,
     "metadata": {},
     "output_type": "execute_result"
    }
   ],
   "source": [
    "cal.execute_command(10,2,\"mul\")"
   ]
  },
  {
   "cell_type": "code",
   "execution_count": 26,
   "id": "18a9c6af",
   "metadata": {},
   "outputs": [
    {
     "data": {
      "text/plain": [
       "8"
      ]
     },
     "execution_count": 26,
     "metadata": {},
     "output_type": "execute_result"
    }
   ],
   "source": [
    "cal.execute_command(10,2,\"sub\")"
   ]
  },
  {
   "cell_type": "code",
   "execution_count": 27,
   "id": "33680927",
   "metadata": {},
   "outputs": [
    {
     "data": {
      "text/plain": [
       "12"
      ]
     },
     "execution_count": 27,
     "metadata": {},
     "output_type": "execute_result"
    }
   ],
   "source": [
    "cal.execute_command(10,2,\"add\")"
   ]
  },
  {
   "cell_type": "code",
   "execution_count": null,
   "id": "78a3ee2c",
   "metadata": {},
   "outputs": [],
   "source": []
  }
 ],
 "metadata": {
  "kernelspec": {
   "display_name": "Python 3 (ipykernel)",
   "language": "python",
   "name": "python3"
  },
  "language_info": {
   "codemirror_mode": {
    "name": "ipython",
    "version": 3
   },
   "file_extension": ".py",
   "mimetype": "text/x-python",
   "name": "python",
   "nbconvert_exporter": "python",
   "pygments_lexer": "ipython3",
   "version": "3.9.12"
  }
 },
 "nbformat": 4,
 "nbformat_minor": 5
}
