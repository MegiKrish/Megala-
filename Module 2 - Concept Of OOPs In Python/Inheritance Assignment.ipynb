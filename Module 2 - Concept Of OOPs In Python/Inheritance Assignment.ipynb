{
 "cells": [
  {
   "cell_type": "markdown",
   "id": "a748712a",
   "metadata": {},
   "source": [
    "## Inheritance Assignment"
   ]
  },
  {
   "cell_type": "markdown",
   "id": "5579de0a",
   "metadata": {},
   "source": [
    "1.Create a class named parent_Class and inside the class,initialize a global variable num as 10."
   ]
  },
  {
   "cell_type": "markdown",
   "id": "3ab140d1",
   "metadata": {},
   "source": [
    "a.Create another class named child_Class and this class should be inherited from the parent class."
   ]
  },
  {
   "cell_type": "markdown",
   "id": "2d489710",
   "metadata": {},
   "source": [
    "b.Now create an object for the child_Class and with the help of child_Class object,display the value of 'num'."
   ]
  },
  {
   "cell_type": "code",
   "execution_count": 70,
   "id": "9a916d95",
   "metadata": {},
   "outputs": [],
   "source": [
    "class parent_Class:\n",
    "    num=10\n",
    "    def fun1(self):\n",
    "        print('India')"
   ]
  },
  {
   "cell_type": "code",
   "execution_count": 71,
   "id": "f60ab0e1",
   "metadata": {},
   "outputs": [],
   "source": [
    "class child_Class(parent_Class):\n",
    "        def fun2(self):\n",
    "            print('The value of num is:',parent_Class.num)\n",
    "            parent_Class.fun1(self)\n",
    "            print('Japan')"
   ]
  },
  {
   "cell_type": "code",
   "execution_count": 72,
   "id": "029a8e0a",
   "metadata": {},
   "outputs": [],
   "source": [
    "o1=child_Class()"
   ]
  },
  {
   "cell_type": "code",
   "execution_count": 73,
   "id": "18d48ef0",
   "metadata": {},
   "outputs": [
    {
     "name": "stdout",
     "output_type": "stream",
     "text": [
      "The value of num is: 10\n",
      "India\n",
      "Japan\n"
     ]
    }
   ],
   "source": [
    "o1.fun2()"
   ]
  },
  {
   "cell_type": "markdown",
   "id": "4a30ef5b",
   "metadata": {},
   "source": [
    "2.Create 3 class named A,B and C."
   ]
  },
  {
   "cell_type": "markdown",
   "id": "c65050d0",
   "metadata": {},
   "source": [
    "a.Inside the A class create a constructor.Inside the constructor initialize two global variables name and age."
   ]
  },
  {
   "cell_type": "markdown",
   "id": "64bdf9ba",
   "metadata": {},
   "source": [
    "b.After initializing the global variables inside the constructor,now create a function named 'details' and that function should return the 'name' variable."
   ]
  },
  {
   "cell_type": "code",
   "execution_count": 46,
   "id": "7bb9fb08",
   "metadata": {},
   "outputs": [],
   "source": [
    "class A:\n",
    "    name=\"India\"\n",
    "    age=35\n",
    "    def __init__(self):\n",
    "        print(\"A class constructor\")\n",
    "    def details(self):\n",
    "        print(\"hello my country is\",self.name)\n",
    "        print('A class function')"
   ]
  },
  {
   "cell_type": "markdown",
   "id": "fab2f62d",
   "metadata": {},
   "source": [
    "c.Inside the B class create a constructor.Inside the constructor, initialize 2 global variables name and id."
   ]
  },
  {
   "cell_type": "markdown",
   "id": "529c3af9",
   "metadata": {},
   "source": [
    "d.After initializing the global variables inside the constructor,now create a function named 'details' and that function should return the 'name' variable."
   ]
  },
  {
   "cell_type": "code",
   "execution_count": 47,
   "id": "ba74f8ee",
   "metadata": {},
   "outputs": [],
   "source": [
    "class B:\n",
    "    name=\"America\"\n",
    "    id=25\n",
    "    def __init__(self):\n",
    "        print(\"B class const\")\n",
    "    def details(self):\n",
    "        print(\"hello my country is\",self.name)\n",
    "        print('B class function')"
   ]
  },
  {
   "cell_type": "markdown",
   "id": "34a395b9",
   "metadata": {},
   "source": [
    "e.The C class should inherit from class A, and B.Inside the class C,create a constructor and inside the constructor, call the constructor of class A."
   ]
  },
  {
   "cell_type": "markdown",
   "id": "8c80bdb6",
   "metadata": {},
   "source": [
    "f.Now,create a method inside the class C,as get_details,and this function should return the value of name. "
   ]
  },
  {
   "cell_type": "code",
   "execution_count": 51,
   "id": "26b28aab",
   "metadata": {},
   "outputs": [],
   "source": [
    "class C(A,B):\n",
    "    def __init__(self):\n",
    "        print('C class constructor')\n",
    "    def get_details(self):\n",
    "        A.__init__(self)\n",
    "        A.details(self)\n",
    "        print('C class function')"
   ]
  },
  {
   "cell_type": "markdown",
   "id": "6e0fb304",
   "metadata": {},
   "source": [
    "g.Atlast, create an object of class C, and with the help of the object,call the get_details()."
   ]
  },
  {
   "cell_type": "code",
   "execution_count": 52,
   "id": "9c93cc1e",
   "metadata": {},
   "outputs": [
    {
     "name": "stdout",
     "output_type": "stream",
     "text": [
      "C class constructor\n"
     ]
    }
   ],
   "source": [
    "obj=C()"
   ]
  },
  {
   "cell_type": "code",
   "execution_count": 53,
   "id": "6ec52a82",
   "metadata": {},
   "outputs": [
    {
     "name": "stdout",
     "output_type": "stream",
     "text": [
      "A class constructor\n",
      "hello my country is India\n",
      "A class function\n",
      "C class function\n"
     ]
    }
   ],
   "source": [
    "obj.get_details()"
   ]
  },
  {
   "cell_type": "code",
   "execution_count": null,
   "id": "e48ddfbe",
   "metadata": {},
   "outputs": [],
   "source": []
  }
 ],
 "metadata": {
  "kernelspec": {
   "display_name": "Python 3 (ipykernel)",
   "language": "python",
   "name": "python3"
  },
  "language_info": {
   "codemirror_mode": {
    "name": "ipython",
    "version": 3
   },
   "file_extension": ".py",
   "mimetype": "text/x-python",
   "name": "python",
   "nbconvert_exporter": "python",
   "pygments_lexer": "ipython3",
   "version": "3.9.12"
  }
 },
 "nbformat": 4,
 "nbformat_minor": 5
}
