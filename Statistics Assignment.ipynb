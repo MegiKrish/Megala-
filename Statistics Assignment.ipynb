{
 "cells": [
  {
   "cell_type": "markdown",
   "id": "8d22c2cf",
   "metadata": {},
   "source": [
    "## Statistics Assignment "
   ]
  },
  {
   "cell_type": "markdown",
   "id": "ff3d244d",
   "metadata": {},
   "source": [
    "1.Create a table in Excel,table should have 2 columns named x and y."
   ]
  },
  {
   "cell_type": "markdown",
   "id": "c64c36b5",
   "metadata": {},
   "source": [
    "a.'x' column should have numbers from 1-5."
   ]
  },
  {
   "cell_type": "markdown",
   "id": "2ab63f56",
   "metadata": {},
   "source": [
    "b.'y'should have numbers 2,4,5,4,2."
   ]
  },
  {
   "cell_type": "code",
   "execution_count": 2,
   "id": "4e164a3f",
   "metadata": {},
   "outputs": [],
   "source": [
    "import pandas as pd"
   ]
  },
  {
   "cell_type": "code",
   "execution_count": 3,
   "id": "c45926c1",
   "metadata": {},
   "outputs": [],
   "source": [
    "df=pd.read_excel('static.xlsx')"
   ]
  },
  {
   "cell_type": "code",
   "execution_count": 4,
   "id": "240c77a4",
   "metadata": {},
   "outputs": [
    {
     "data": {
      "text/html": [
       "<div>\n",
       "<style scoped>\n",
       "    .dataframe tbody tr th:only-of-type {\n",
       "        vertical-align: middle;\n",
       "    }\n",
       "\n",
       "    .dataframe tbody tr th {\n",
       "        vertical-align: top;\n",
       "    }\n",
       "\n",
       "    .dataframe thead th {\n",
       "        text-align: right;\n",
       "    }\n",
       "</style>\n",
       "<table border=\"1\" class=\"dataframe\">\n",
       "  <thead>\n",
       "    <tr style=\"text-align: right;\">\n",
       "      <th></th>\n",
       "      <th>X</th>\n",
       "      <th>Y</th>\n",
       "    </tr>\n",
       "  </thead>\n",
       "  <tbody>\n",
       "    <tr>\n",
       "      <th>0</th>\n",
       "      <td>1</td>\n",
       "      <td>2</td>\n",
       "    </tr>\n",
       "    <tr>\n",
       "      <th>1</th>\n",
       "      <td>2</td>\n",
       "      <td>4</td>\n",
       "    </tr>\n",
       "    <tr>\n",
       "      <th>2</th>\n",
       "      <td>3</td>\n",
       "      <td>5</td>\n",
       "    </tr>\n",
       "    <tr>\n",
       "      <th>3</th>\n",
       "      <td>4</td>\n",
       "      <td>4</td>\n",
       "    </tr>\n",
       "    <tr>\n",
       "      <th>4</th>\n",
       "      <td>5</td>\n",
       "      <td>2</td>\n",
       "    </tr>\n",
       "  </tbody>\n",
       "</table>\n",
       "</div>"
      ],
      "text/plain": [
       "   X  Y\n",
       "0  1  2\n",
       "1  2  4\n",
       "2  3  5\n",
       "3  4  4\n",
       "4  5  2"
      ]
     },
     "execution_count": 4,
     "metadata": {},
     "output_type": "execute_result"
    }
   ],
   "source": [
    "df.head()"
   ]
  },
  {
   "cell_type": "markdown",
   "id": "afd07cd9",
   "metadata": {},
   "source": [
    "c.Now calculate the mean of columns x and y."
   ]
  },
  {
   "cell_type": "code",
   "execution_count": 6,
   "id": "44088195",
   "metadata": {},
   "outputs": [
    {
     "data": {
      "text/plain": [
       "X    3.0\n",
       "Y    3.4\n",
       "dtype: float64"
      ]
     },
     "execution_count": 6,
     "metadata": {},
     "output_type": "execute_result"
    }
   ],
   "source": [
    "df.mean()"
   ]
  },
  {
   "cell_type": "markdown",
   "id": "acf8fa46",
   "metadata": {},
   "source": [
    "d.Calculate the mode of column x."
   ]
  },
  {
   "cell_type": "code",
   "execution_count": 5,
   "id": "3b6af990",
   "metadata": {},
   "outputs": [],
   "source": [
    "x=df['X']"
   ]
  },
  {
   "cell_type": "code",
   "execution_count": 7,
   "id": "87c557d8",
   "metadata": {},
   "outputs": [
    {
     "data": {
      "text/plain": [
       "0    1\n",
       "1    2\n",
       "2    3\n",
       "3    4\n",
       "4    5\n",
       "Name: X, dtype: int64"
      ]
     },
     "execution_count": 7,
     "metadata": {},
     "output_type": "execute_result"
    }
   ],
   "source": [
    "x.mode()"
   ]
  },
  {
   "cell_type": "markdown",
   "id": "d2b87443",
   "metadata": {},
   "source": [
    "e.Calculate the standard deviation of column y."
   ]
  },
  {
   "cell_type": "code",
   "execution_count": 8,
   "id": "d99e0097",
   "metadata": {},
   "outputs": [],
   "source": [
    "y=df['Y']"
   ]
  },
  {
   "cell_type": "code",
   "execution_count": 9,
   "id": "4fee1e61",
   "metadata": {},
   "outputs": [
    {
     "data": {
      "text/plain": [
       "1.3416407864998738"
      ]
     },
     "execution_count": 9,
     "metadata": {},
     "output_type": "execute_result"
    }
   ],
   "source": [
    "y.std()"
   ]
  },
  {
   "cell_type": "markdown",
   "id": "93670212",
   "metadata": {},
   "source": [
    "f.Atlast calculate the range of columns x and y separately."
   ]
  },
  {
   "cell_type": "code",
   "execution_count": 15,
   "id": "4d2e7f90",
   "metadata": {},
   "outputs": [
    {
     "name": "stdout",
     "output_type": "stream",
     "text": [
      "Range of X is 4\n"
     ]
    }
   ],
   "source": [
    "print(\"Range of X is\",df.X.max()-df.X.min())"
   ]
  },
  {
   "cell_type": "code",
   "execution_count": 14,
   "id": "d324a2e1",
   "metadata": {},
   "outputs": [
    {
     "name": "stdout",
     "output_type": "stream",
     "text": [
      "Range of Y is 3\n"
     ]
    }
   ],
   "source": [
    "print(\"Range of Y is\",df.Y.max()-df.Y.min())"
   ]
  },
  {
   "cell_type": "code",
   "execution_count": null,
   "id": "735b20e9",
   "metadata": {},
   "outputs": [],
   "source": []
  }
 ],
 "metadata": {
  "kernelspec": {
   "display_name": "Python 3 (ipykernel)",
   "language": "python",
   "name": "python3"
  },
  "language_info": {
   "codemirror_mode": {
    "name": "ipython",
    "version": 3
   },
   "file_extension": ".py",
   "mimetype": "text/x-python",
   "name": "python",
   "nbconvert_exporter": "python",
   "pygments_lexer": "ipython3",
   "version": "3.9.12"
  }
 },
 "nbformat": 4,
 "nbformat_minor": 5
}
