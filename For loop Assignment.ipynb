{
 "cells": [
  {
   "cell_type": "markdown",
   "id": "41d9a019",
   "metadata": {},
   "source": [
    "## Program for Prime Numbers using array"
   ]
  },
  {
   "cell_type": "code",
   "execution_count": 1,
   "id": "70b293a8",
   "metadata": {},
   "outputs": [
    {
     "name": "stdout",
     "output_type": "stream",
     "text": [
      "[2, 3, 5, 7, 11, 13, 17, 19, 23, 29, 31, 37, 41, 43, 47, 53, 59, 61, 67, 71, 73, 79, 83, 89, 97]\n"
     ]
    }
   ],
   "source": [
    "# RUN to create an array of the prime numbers\n",
    "# [ 2, 3, 5, 7, 11, 13, 17, 19, 23, 29, 31, 37, 41,\n",
    "#  43,47, 53, 59, 61, 67, 71, 73, 79, 83, 89, 97 ]\n",
    "def get_primelist(upper):\n",
    "    result = []\n",
    "    for cp in range ( 2, upper + 1 ):\n",
    "        for i in range ( 2, cp ):\n",
    "            if ( cp % i == 0 ):\n",
    "                break\n",
    "        else:\n",
    "             result.append(cp)\n",
    "    return result\n",
    "print (get_primelist(100))\n"
   ]
  },
  {
   "cell_type": "code",
   "execution_count": null,
   "id": "355ec47b",
   "metadata": {},
   "outputs": [],
   "source": []
  }
 ],
 "metadata": {
  "kernelspec": {
   "display_name": "Python 3 (ipykernel)",
   "language": "python",
   "name": "python3"
  },
  "language_info": {
   "codemirror_mode": {
    "name": "ipython",
    "version": 3
   },
   "file_extension": ".py",
   "mimetype": "text/x-python",
   "name": "python",
   "nbconvert_exporter": "python",
   "pygments_lexer": "ipython3",
   "version": "3.9.12"
  }
 },
 "nbformat": 4,
 "nbformat_minor": 5
}
