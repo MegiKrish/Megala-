{
 "cells": [
  {
   "cell_type": "markdown",
   "id": "26a0c83b",
   "metadata": {},
   "source": [
    "## Case study- Pandas "
   ]
  },
  {
   "cell_type": "markdown",
   "id": "8b640924",
   "metadata": {},
   "source": [
    "#### 1.write a function that takes start and end of a range returns a pandas series object containing numbers within that range.\n",
    "####  In case that user does not pass start or end or both they should default to 1 and 10 respectively.\n",
    "#### e.g. ->\n",
    "#### range_series() -> should return a pandas series from 1 to 10.\n",
    "#### range_series(5) -> should return a pandas series from 5 to 10.\n",
    "#### range_series(5,10) -> should return a pandas series from 5 to 15.Create a method that takes n numpy arrays of same dimensions sums them and return the answer."
   ]
  },
  {
   "cell_type": "code",
   "execution_count": 2,
   "id": "9595ec39",
   "metadata": {},
   "outputs": [
    {
     "name": "stdout",
     "output_type": "stream",
     "text": [
      "0     1\n",
      "1     2\n",
      "2     3\n",
      "3     4\n",
      "4     5\n",
      "5     6\n",
      "6     7\n",
      "7     8\n",
      "8     9\n",
      "9    10\n",
      "dtype: int64\n"
     ]
    }
   ],
   "source": [
    "import pandas as pd\n",
    "s=pd.Series(range(1,11))\n",
    "print(s)"
   ]
  },
  {
   "cell_type": "code",
   "execution_count": 3,
   "id": "4a1bae6e",
   "metadata": {},
   "outputs": [
    {
     "name": "stdout",
     "output_type": "stream",
     "text": [
      "0     5\n",
      "1     6\n",
      "2     7\n",
      "3     8\n",
      "4     9\n",
      "5    10\n",
      "dtype: int64\n"
     ]
    }
   ],
   "source": [
    "import pandas as pd\n",
    "s=pd.Series(range(5,11))\n",
    "print(s)"
   ]
  },
  {
   "cell_type": "code",
   "execution_count": 4,
   "id": "82b03622",
   "metadata": {},
   "outputs": [
    {
     "name": "stdout",
     "output_type": "stream",
     "text": [
      "0      5\n",
      "1      6\n",
      "2      7\n",
      "3      8\n",
      "4      9\n",
      "5     10\n",
      "6     11\n",
      "7     12\n",
      "8     13\n",
      "9     14\n",
      "10    15\n",
      "dtype: int64\n"
     ]
    }
   ],
   "source": [
    "import pandas as pd\n",
    "s=pd.Series(range(5,16))\n",
    "print(s)"
   ]
  },
  {
   "cell_type": "code",
   "execution_count": 5,
   "id": "7670747f",
   "metadata": {},
   "outputs": [
    {
     "data": {
      "text/plain": [
       "100"
      ]
     },
     "execution_count": 5,
     "metadata": {},
     "output_type": "execute_result"
    }
   ],
   "source": [
    "import numpy as np\n",
    "a=np.array([10,20,30,40])\n",
    "a.sum()"
   ]
  },
  {
   "cell_type": "markdown",
   "id": "d740c8e6",
   "metadata": {},
   "source": [
    "#### 2.Create a function that takes in two lists named keys and values as arguements.\n",
    "#### keys would be strings and contain n string values.\n",
    "#### values would be a list containing n lists.\n",
    "#### The methods should return a new pandas dataframe with keys as column names and values as their corresponding values.\n",
    "#### e.g.-> create_dataframe([\"one\",\"two\"],[[\"X\",\"Y\"],[\"A\",\"B\"]])-> should return a dataframe.\n",
    "####     One Two\n",
    "####    0  X   A\n",
    "####    1  Y   B"
   ]
  },
  {
   "cell_type": "code",
   "execution_count": 6,
   "id": "337c75cf",
   "metadata": {},
   "outputs": [],
   "source": [
    "list1=[\"One\",\"Two\"]\n",
    "list2=[[\"X\",\"Y\"],[\"A\",\"B\"]]"
   ]
  },
  {
   "cell_type": "code",
   "execution_count": 7,
   "id": "abcd5f95",
   "metadata": {},
   "outputs": [],
   "source": [
    "class fun1:\n",
    "    def __init__(self,key,value):\n",
    "        self.key = key\n",
    "        self.value = value\n",
    "    def create_dataframe(self):\n",
    "        series1 = pd.Series(self.value[0])\n",
    "        series2 = pd.Series(self.value[1])\n",
    "        data = pd.concat([series1,series2],axis=1)\n",
    "        data.columns = self.key\n",
    "        print(data)"
   ]
  },
  {
   "cell_type": "code",
   "execution_count": 8,
   "id": "19c6e062",
   "metadata": {},
   "outputs": [
    {
     "name": "stdout",
     "output_type": "stream",
     "text": [
      "  One Two\n",
      "0   X   A\n",
      "1   Y   B\n"
     ]
    }
   ],
   "source": [
    "obj1 = fun1(list1,list2)\n",
    "obj1.create_dataframe()"
   ]
  },
  {
   "cell_type": "markdown",
   "id": "7fcfc105",
   "metadata": {},
   "source": [
    "#### 3.Create a function that concatenates two dataframes use previously created function to create two dataframes and pass them as parameters make sure that the indexes are reset before returning."
   ]
  },
  {
   "cell_type": "code",
   "execution_count": 9,
   "id": "9673b9e6",
   "metadata": {},
   "outputs": [],
   "source": [
    "d1 = {'One':pd.Series(['C','D'])}\n",
    "df1 = pd.DataFrame(d1)\n",
    "d2 = {'Two':pd.Series(['R','S'])}\n",
    "df2 = pd.DataFrame(d2) "
   ]
  },
  {
   "cell_type": "code",
   "execution_count": 10,
   "id": "03da9075",
   "metadata": {},
   "outputs": [
    {
     "name": "stdout",
     "output_type": "stream",
     "text": [
      "  One Two\n",
      "0   C   R\n",
      "1   D   S\n"
     ]
    }
   ],
   "source": [
    "create_dataframe=pd.concat([df1,df2],axis=1)\n",
    "print(create_dataframe)"
   ]
  },
  {
   "cell_type": "markdown",
   "id": "e04da7d4",
   "metadata": {},
   "source": [
    "#### 4.write code to load data from cars.csv into a dataframe and print its details.Details like :'count','mean','std','min','25%','50%','75%','max'."
   ]
  },
  {
   "cell_type": "code",
   "execution_count": 11,
   "id": "6b853758",
   "metadata": {},
   "outputs": [],
   "source": [
    "df=pd.read_csv('cars.csv')"
   ]
  },
  {
   "cell_type": "code",
   "execution_count": 12,
   "id": "cb7d8fff",
   "metadata": {},
   "outputs": [
    {
     "data": {
      "text/html": [
       "<div>\n",
       "<style scoped>\n",
       "    .dataframe tbody tr th:only-of-type {\n",
       "        vertical-align: middle;\n",
       "    }\n",
       "\n",
       "    .dataframe tbody tr th {\n",
       "        vertical-align: top;\n",
       "    }\n",
       "\n",
       "    .dataframe thead th {\n",
       "        text-align: right;\n",
       "    }\n",
       "</style>\n",
       "<table border=\"1\" class=\"dataframe\">\n",
       "  <thead>\n",
       "    <tr style=\"text-align: right;\">\n",
       "      <th></th>\n",
       "      <th>MPG</th>\n",
       "      <th>Cylinder</th>\n",
       "      <th>Disp</th>\n",
       "      <th>HP</th>\n",
       "      <th>Drat</th>\n",
       "      <th>Wt</th>\n",
       "      <th>Qsec</th>\n",
       "      <th>VS</th>\n",
       "      <th>AM</th>\n",
       "      <th>Gear</th>\n",
       "      <th>Carb</th>\n",
       "    </tr>\n",
       "  </thead>\n",
       "  <tbody>\n",
       "    <tr>\n",
       "      <th>count</th>\n",
       "      <td>32.000000</td>\n",
       "      <td>32.000000</td>\n",
       "      <td>32.000000</td>\n",
       "      <td>32.000000</td>\n",
       "      <td>32.000000</td>\n",
       "      <td>32.000000</td>\n",
       "      <td>32.000000</td>\n",
       "      <td>32.000000</td>\n",
       "      <td>32.000000</td>\n",
       "      <td>32.000000</td>\n",
       "      <td>32.0000</td>\n",
       "    </tr>\n",
       "    <tr>\n",
       "      <th>mean</th>\n",
       "      <td>20.090625</td>\n",
       "      <td>6.187500</td>\n",
       "      <td>230.403125</td>\n",
       "      <td>147.531250</td>\n",
       "      <td>3.596563</td>\n",
       "      <td>3.217250</td>\n",
       "      <td>17.848750</td>\n",
       "      <td>0.437500</td>\n",
       "      <td>0.406250</td>\n",
       "      <td>3.687500</td>\n",
       "      <td>2.8125</td>\n",
       "    </tr>\n",
       "    <tr>\n",
       "      <th>std</th>\n",
       "      <td>6.026948</td>\n",
       "      <td>1.785922</td>\n",
       "      <td>123.788090</td>\n",
       "      <td>70.012434</td>\n",
       "      <td>0.534679</td>\n",
       "      <td>0.978457</td>\n",
       "      <td>1.786943</td>\n",
       "      <td>0.504016</td>\n",
       "      <td>0.498991</td>\n",
       "      <td>0.737804</td>\n",
       "      <td>1.6152</td>\n",
       "    </tr>\n",
       "    <tr>\n",
       "      <th>min</th>\n",
       "      <td>10.400000</td>\n",
       "      <td>4.000000</td>\n",
       "      <td>71.100000</td>\n",
       "      <td>52.000000</td>\n",
       "      <td>2.760000</td>\n",
       "      <td>1.513000</td>\n",
       "      <td>14.500000</td>\n",
       "      <td>0.000000</td>\n",
       "      <td>0.000000</td>\n",
       "      <td>3.000000</td>\n",
       "      <td>1.0000</td>\n",
       "    </tr>\n",
       "    <tr>\n",
       "      <th>25%</th>\n",
       "      <td>15.425000</td>\n",
       "      <td>4.000000</td>\n",
       "      <td>120.825000</td>\n",
       "      <td>96.500000</td>\n",
       "      <td>3.080000</td>\n",
       "      <td>2.581250</td>\n",
       "      <td>16.892500</td>\n",
       "      <td>0.000000</td>\n",
       "      <td>0.000000</td>\n",
       "      <td>3.000000</td>\n",
       "      <td>2.0000</td>\n",
       "    </tr>\n",
       "    <tr>\n",
       "      <th>50%</th>\n",
       "      <td>19.200000</td>\n",
       "      <td>6.000000</td>\n",
       "      <td>197.000000</td>\n",
       "      <td>118.000000</td>\n",
       "      <td>3.695000</td>\n",
       "      <td>3.325000</td>\n",
       "      <td>17.710000</td>\n",
       "      <td>0.000000</td>\n",
       "      <td>0.000000</td>\n",
       "      <td>4.000000</td>\n",
       "      <td>2.0000</td>\n",
       "    </tr>\n",
       "    <tr>\n",
       "      <th>75%</th>\n",
       "      <td>22.800000</td>\n",
       "      <td>8.000000</td>\n",
       "      <td>326.000000</td>\n",
       "      <td>201.250000</td>\n",
       "      <td>3.920000</td>\n",
       "      <td>3.610000</td>\n",
       "      <td>18.900000</td>\n",
       "      <td>1.000000</td>\n",
       "      <td>1.000000</td>\n",
       "      <td>4.000000</td>\n",
       "      <td>4.0000</td>\n",
       "    </tr>\n",
       "    <tr>\n",
       "      <th>max</th>\n",
       "      <td>33.900000</td>\n",
       "      <td>8.000000</td>\n",
       "      <td>472.000000</td>\n",
       "      <td>335.000000</td>\n",
       "      <td>4.930000</td>\n",
       "      <td>5.424000</td>\n",
       "      <td>22.900000</td>\n",
       "      <td>1.000000</td>\n",
       "      <td>1.000000</td>\n",
       "      <td>5.000000</td>\n",
       "      <td>8.0000</td>\n",
       "    </tr>\n",
       "  </tbody>\n",
       "</table>\n",
       "</div>"
      ],
      "text/plain": [
       "             MPG   Cylinder        Disp          HP       Drat         Wt  \\\n",
       "count  32.000000  32.000000   32.000000   32.000000  32.000000  32.000000   \n",
       "mean   20.090625   6.187500  230.403125  147.531250   3.596563   3.217250   \n",
       "std     6.026948   1.785922  123.788090   70.012434   0.534679   0.978457   \n",
       "min    10.400000   4.000000   71.100000   52.000000   2.760000   1.513000   \n",
       "25%    15.425000   4.000000  120.825000   96.500000   3.080000   2.581250   \n",
       "50%    19.200000   6.000000  197.000000  118.000000   3.695000   3.325000   \n",
       "75%    22.800000   8.000000  326.000000  201.250000   3.920000   3.610000   \n",
       "max    33.900000   8.000000  472.000000  335.000000   4.930000   5.424000   \n",
       "\n",
       "            Qsec         VS         AM       Gear     Carb  \n",
       "count  32.000000  32.000000  32.000000  32.000000  32.0000  \n",
       "mean   17.848750   0.437500   0.406250   3.687500   2.8125  \n",
       "std     1.786943   0.504016   0.498991   0.737804   1.6152  \n",
       "min    14.500000   0.000000   0.000000   3.000000   1.0000  \n",
       "25%    16.892500   0.000000   0.000000   3.000000   2.0000  \n",
       "50%    17.710000   0.000000   0.000000   4.000000   2.0000  \n",
       "75%    18.900000   1.000000   1.000000   4.000000   4.0000  \n",
       "max    22.900000   1.000000   1.000000   5.000000   8.0000  "
      ]
     },
     "execution_count": 12,
     "metadata": {},
     "output_type": "execute_result"
    }
   ],
   "source": [
    "df.describe()"
   ]
  },
  {
   "cell_type": "code",
   "execution_count": 13,
   "id": "0e0f35fc",
   "metadata": {},
   "outputs": [
    {
     "data": {
      "text/plain": [
       "Model       32\n",
       "MPG         32\n",
       "Cylinder    32\n",
       "Disp        32\n",
       "HP          32\n",
       "Drat        32\n",
       "Wt          32\n",
       "Qsec        32\n",
       "VS          32\n",
       "AM          32\n",
       "Gear        32\n",
       "Carb        32\n",
       "dtype: int64"
      ]
     },
     "execution_count": 13,
     "metadata": {},
     "output_type": "execute_result"
    }
   ],
   "source": [
    "df.count()"
   ]
  },
  {
   "cell_type": "code",
   "execution_count": 14,
   "id": "20b85319",
   "metadata": {},
   "outputs": [
    {
     "name": "stderr",
     "output_type": "stream",
     "text": [
      "C:\\Users\\megik\\AppData\\Local\\Temp\\ipykernel_19868\\3698961737.py:1: FutureWarning: Dropping of nuisance columns in DataFrame reductions (with 'numeric_only=None') is deprecated; in a future version this will raise TypeError.  Select only valid columns before calling the reduction.\n",
      "  df.mean()\n"
     ]
    },
    {
     "data": {
      "text/plain": [
       "MPG          20.090625\n",
       "Cylinder      6.187500\n",
       "Disp        230.403125\n",
       "HP          147.531250\n",
       "Drat          3.596563\n",
       "Wt            3.217250\n",
       "Qsec         17.848750\n",
       "VS            0.437500\n",
       "AM            0.406250\n",
       "Gear          3.687500\n",
       "Carb          2.812500\n",
       "dtype: float64"
      ]
     },
     "execution_count": 14,
     "metadata": {},
     "output_type": "execute_result"
    }
   ],
   "source": [
    "df.mean()"
   ]
  },
  {
   "cell_type": "code",
   "execution_count": 15,
   "id": "39b04d0c",
   "metadata": {},
   "outputs": [
    {
     "name": "stderr",
     "output_type": "stream",
     "text": [
      "C:\\Users\\megik\\AppData\\Local\\Temp\\ipykernel_19868\\3390915376.py:1: FutureWarning: Dropping of nuisance columns in DataFrame reductions (with 'numeric_only=None') is deprecated; in a future version this will raise TypeError.  Select only valid columns before calling the reduction.\n",
      "  df.std()\n"
     ]
    },
    {
     "data": {
      "text/plain": [
       "MPG           6.026948\n",
       "Cylinder      1.785922\n",
       "Disp        123.788090\n",
       "HP           70.012434\n",
       "Drat          0.534679\n",
       "Wt            0.978457\n",
       "Qsec          1.786943\n",
       "VS            0.504016\n",
       "AM            0.498991\n",
       "Gear          0.737804\n",
       "Carb          1.615200\n",
       "dtype: float64"
      ]
     },
     "execution_count": 15,
     "metadata": {},
     "output_type": "execute_result"
    }
   ],
   "source": [
    "df.std()"
   ]
  },
  {
   "cell_type": "code",
   "execution_count": 16,
   "id": "20dd7383",
   "metadata": {},
   "outputs": [
    {
     "data": {
      "text/plain": [
       "Model       AMC Javelin\n",
       "MPG                10.4\n",
       "Cylinder              4\n",
       "Disp               71.1\n",
       "HP                   52\n",
       "Drat               2.76\n",
       "Wt                1.513\n",
       "Qsec               14.5\n",
       "VS                    0\n",
       "AM                    0\n",
       "Gear                  3\n",
       "Carb                  1\n",
       "dtype: object"
      ]
     },
     "execution_count": 16,
     "metadata": {},
     "output_type": "execute_result"
    }
   ],
   "source": [
    "df.min()"
   ]
  },
  {
   "cell_type": "code",
   "execution_count": 17,
   "id": "46285740",
   "metadata": {},
   "outputs": [
    {
     "data": {
      "text/plain": [
       "Model       Volvo 142E\n",
       "MPG               33.9\n",
       "Cylinder             8\n",
       "Disp             472.0\n",
       "HP                 335\n",
       "Drat              4.93\n",
       "Wt               5.424\n",
       "Qsec              22.9\n",
       "VS                   1\n",
       "AM                   1\n",
       "Gear                 5\n",
       "Carb                 8\n",
       "dtype: object"
      ]
     },
     "execution_count": 17,
     "metadata": {},
     "output_type": "execute_result"
    }
   ],
   "source": [
    "df.max()"
   ]
  },
  {
   "cell_type": "markdown",
   "id": "42add237",
   "metadata": {},
   "source": [
    "#### 5.write a method that will take a column as arguement and return the name of the column with which the given column has the highest correlation.\n",
    "#### The data to be used is the cars dataset.\n",
    "#### The returned value should not the column named that was passed as the parameters.\n",
    "#### E.G.get_max_correlated_column('mpg')-> should return 'drat'."
   ]
  },
  {
   "cell_type": "code",
   "execution_count": 18,
   "id": "304e2b6b",
   "metadata": {},
   "outputs": [
    {
     "data": {
      "text/html": [
       "<div>\n",
       "<style scoped>\n",
       "    .dataframe tbody tr th:only-of-type {\n",
       "        vertical-align: middle;\n",
       "    }\n",
       "\n",
       "    .dataframe tbody tr th {\n",
       "        vertical-align: top;\n",
       "    }\n",
       "\n",
       "    .dataframe thead th {\n",
       "        text-align: right;\n",
       "    }\n",
       "</style>\n",
       "<table border=\"1\" class=\"dataframe\">\n",
       "  <thead>\n",
       "    <tr style=\"text-align: right;\">\n",
       "      <th></th>\n",
       "      <th>MPG</th>\n",
       "      <th>Cylinder</th>\n",
       "      <th>Disp</th>\n",
       "      <th>HP</th>\n",
       "      <th>Drat</th>\n",
       "      <th>Wt</th>\n",
       "      <th>Qsec</th>\n",
       "      <th>VS</th>\n",
       "      <th>AM</th>\n",
       "      <th>Gear</th>\n",
       "      <th>Carb</th>\n",
       "    </tr>\n",
       "  </thead>\n",
       "  <tbody>\n",
       "    <tr>\n",
       "      <th>MPG</th>\n",
       "      <td>1.000000</td>\n",
       "      <td>-0.852162</td>\n",
       "      <td>-0.847011</td>\n",
       "      <td>-0.774015</td>\n",
       "      <td>0.681172</td>\n",
       "      <td>-0.867659</td>\n",
       "      <td>0.418684</td>\n",
       "      <td>0.664039</td>\n",
       "      <td>0.599832</td>\n",
       "      <td>0.480285</td>\n",
       "      <td>-0.550925</td>\n",
       "    </tr>\n",
       "    <tr>\n",
       "      <th>Cylinder</th>\n",
       "      <td>-0.852162</td>\n",
       "      <td>1.000000</td>\n",
       "      <td>0.900024</td>\n",
       "      <td>0.839705</td>\n",
       "      <td>-0.699938</td>\n",
       "      <td>0.782496</td>\n",
       "      <td>-0.591242</td>\n",
       "      <td>-0.810812</td>\n",
       "      <td>-0.522607</td>\n",
       "      <td>-0.492687</td>\n",
       "      <td>0.526988</td>\n",
       "    </tr>\n",
       "    <tr>\n",
       "      <th>Disp</th>\n",
       "      <td>-0.847011</td>\n",
       "      <td>0.900024</td>\n",
       "      <td>1.000000</td>\n",
       "      <td>0.787226</td>\n",
       "      <td>-0.707880</td>\n",
       "      <td>0.887034</td>\n",
       "      <td>-0.433543</td>\n",
       "      <td>-0.708249</td>\n",
       "      <td>-0.589782</td>\n",
       "      <td>-0.553274</td>\n",
       "      <td>0.395375</td>\n",
       "    </tr>\n",
       "    <tr>\n",
       "      <th>HP</th>\n",
       "      <td>-0.774015</td>\n",
       "      <td>0.839705</td>\n",
       "      <td>0.787226</td>\n",
       "      <td>1.000000</td>\n",
       "      <td>-0.468566</td>\n",
       "      <td>0.655475</td>\n",
       "      <td>-0.696349</td>\n",
       "      <td>-0.739949</td>\n",
       "      <td>-0.248297</td>\n",
       "      <td>-0.149057</td>\n",
       "      <td>0.729171</td>\n",
       "    </tr>\n",
       "    <tr>\n",
       "      <th>Drat</th>\n",
       "      <td>0.681172</td>\n",
       "      <td>-0.699938</td>\n",
       "      <td>-0.707880</td>\n",
       "      <td>-0.468566</td>\n",
       "      <td>1.000000</td>\n",
       "      <td>-0.712441</td>\n",
       "      <td>0.091205</td>\n",
       "      <td>0.440278</td>\n",
       "      <td>0.712711</td>\n",
       "      <td>0.699610</td>\n",
       "      <td>-0.090790</td>\n",
       "    </tr>\n",
       "    <tr>\n",
       "      <th>Wt</th>\n",
       "      <td>-0.867659</td>\n",
       "      <td>0.782496</td>\n",
       "      <td>0.887034</td>\n",
       "      <td>0.655475</td>\n",
       "      <td>-0.712441</td>\n",
       "      <td>1.000000</td>\n",
       "      <td>-0.174716</td>\n",
       "      <td>-0.554916</td>\n",
       "      <td>-0.692495</td>\n",
       "      <td>-0.583287</td>\n",
       "      <td>0.427606</td>\n",
       "    </tr>\n",
       "    <tr>\n",
       "      <th>Qsec</th>\n",
       "      <td>0.418684</td>\n",
       "      <td>-0.591242</td>\n",
       "      <td>-0.433543</td>\n",
       "      <td>-0.696349</td>\n",
       "      <td>0.091205</td>\n",
       "      <td>-0.174716</td>\n",
       "      <td>1.000000</td>\n",
       "      <td>0.744535</td>\n",
       "      <td>-0.229861</td>\n",
       "      <td>-0.212682</td>\n",
       "      <td>-0.656249</td>\n",
       "    </tr>\n",
       "    <tr>\n",
       "      <th>VS</th>\n",
       "      <td>0.664039</td>\n",
       "      <td>-0.810812</td>\n",
       "      <td>-0.708249</td>\n",
       "      <td>-0.739949</td>\n",
       "      <td>0.440278</td>\n",
       "      <td>-0.554916</td>\n",
       "      <td>0.744535</td>\n",
       "      <td>1.000000</td>\n",
       "      <td>0.168345</td>\n",
       "      <td>0.206023</td>\n",
       "      <td>-0.569607</td>\n",
       "    </tr>\n",
       "    <tr>\n",
       "      <th>AM</th>\n",
       "      <td>0.599832</td>\n",
       "      <td>-0.522607</td>\n",
       "      <td>-0.589782</td>\n",
       "      <td>-0.248297</td>\n",
       "      <td>0.712711</td>\n",
       "      <td>-0.692495</td>\n",
       "      <td>-0.229861</td>\n",
       "      <td>0.168345</td>\n",
       "      <td>1.000000</td>\n",
       "      <td>0.794059</td>\n",
       "      <td>0.057534</td>\n",
       "    </tr>\n",
       "    <tr>\n",
       "      <th>Gear</th>\n",
       "      <td>0.480285</td>\n",
       "      <td>-0.492687</td>\n",
       "      <td>-0.553274</td>\n",
       "      <td>-0.149057</td>\n",
       "      <td>0.699610</td>\n",
       "      <td>-0.583287</td>\n",
       "      <td>-0.212682</td>\n",
       "      <td>0.206023</td>\n",
       "      <td>0.794059</td>\n",
       "      <td>1.000000</td>\n",
       "      <td>0.274073</td>\n",
       "    </tr>\n",
       "    <tr>\n",
       "      <th>Carb</th>\n",
       "      <td>-0.550925</td>\n",
       "      <td>0.526988</td>\n",
       "      <td>0.395375</td>\n",
       "      <td>0.729171</td>\n",
       "      <td>-0.090790</td>\n",
       "      <td>0.427606</td>\n",
       "      <td>-0.656249</td>\n",
       "      <td>-0.569607</td>\n",
       "      <td>0.057534</td>\n",
       "      <td>0.274073</td>\n",
       "      <td>1.000000</td>\n",
       "    </tr>\n",
       "  </tbody>\n",
       "</table>\n",
       "</div>"
      ],
      "text/plain": [
       "               MPG  Cylinder      Disp        HP      Drat        Wt  \\\n",
       "MPG       1.000000 -0.852162 -0.847011 -0.774015  0.681172 -0.867659   \n",
       "Cylinder -0.852162  1.000000  0.900024  0.839705 -0.699938  0.782496   \n",
       "Disp     -0.847011  0.900024  1.000000  0.787226 -0.707880  0.887034   \n",
       "HP       -0.774015  0.839705  0.787226  1.000000 -0.468566  0.655475   \n",
       "Drat      0.681172 -0.699938 -0.707880 -0.468566  1.000000 -0.712441   \n",
       "Wt       -0.867659  0.782496  0.887034  0.655475 -0.712441  1.000000   \n",
       "Qsec      0.418684 -0.591242 -0.433543 -0.696349  0.091205 -0.174716   \n",
       "VS        0.664039 -0.810812 -0.708249 -0.739949  0.440278 -0.554916   \n",
       "AM        0.599832 -0.522607 -0.589782 -0.248297  0.712711 -0.692495   \n",
       "Gear      0.480285 -0.492687 -0.553274 -0.149057  0.699610 -0.583287   \n",
       "Carb     -0.550925  0.526988  0.395375  0.729171 -0.090790  0.427606   \n",
       "\n",
       "              Qsec        VS        AM      Gear      Carb  \n",
       "MPG       0.418684  0.664039  0.599832  0.480285 -0.550925  \n",
       "Cylinder -0.591242 -0.810812 -0.522607 -0.492687  0.526988  \n",
       "Disp     -0.433543 -0.708249 -0.589782 -0.553274  0.395375  \n",
       "HP       -0.696349 -0.739949 -0.248297 -0.149057  0.729171  \n",
       "Drat      0.091205  0.440278  0.712711  0.699610 -0.090790  \n",
       "Wt       -0.174716 -0.554916 -0.692495 -0.583287  0.427606  \n",
       "Qsec      1.000000  0.744535 -0.229861 -0.212682 -0.656249  \n",
       "VS        0.744535  1.000000  0.168345  0.206023 -0.569607  \n",
       "AM       -0.229861  0.168345  1.000000  0.794059  0.057534  \n",
       "Gear     -0.212682  0.206023  0.794059  1.000000  0.274073  \n",
       "Carb     -0.656249 -0.569607  0.057534  0.274073  1.000000  "
      ]
     },
     "execution_count": 18,
     "metadata": {},
     "output_type": "execute_result"
    }
   ],
   "source": [
    "df.corr()"
   ]
  },
  {
   "cell_type": "code",
   "execution_count": 39,
   "id": "41d40f55",
   "metadata": {},
   "outputs": [
    {
     "name": "stdout",
     "output_type": "stream",
     "text": [
      "0.6811719078067492\n"
     ]
    }
   ],
   "source": [
    "corr=df['MPG'].corr(df['Drat'])\n",
    "print(corr)"
   ]
  },
  {
   "cell_type": "code",
   "execution_count": 40,
   "id": "88325cf6",
   "metadata": {},
   "outputs": [],
   "source": [
    "def max_correlated_col(corr,df):\n",
    "    dic = {}\n",
    "    list1 = [x for x in df.columns if df[x].dtypes == float]\n",
    "    for i in list1:\n",
    "        dic[i] = abs(df['MPG'].corr(df[i]))\n",
    "    return max(dic)"
   ]
  },
  {
   "cell_type": "code",
   "execution_count": 38,
   "id": "83b38261",
   "metadata": {},
   "outputs": [
    {
     "data": {
      "text/plain": [
       "'Wt'"
      ]
     },
     "execution_count": 38,
     "metadata": {},
     "output_type": "execute_result"
    }
   ],
   "source": [
    "max_correlated_col(corr,df)"
   ]
  },
  {
   "cell_type": "code",
   "execution_count": null,
   "id": "e600b83c",
   "metadata": {},
   "outputs": [],
   "source": []
  }
 ],
 "metadata": {
  "kernelspec": {
   "display_name": "Python 3 (ipykernel)",
   "language": "python",
   "name": "python3"
  },
  "language_info": {
   "codemirror_mode": {
    "name": "ipython",
    "version": 3
   },
   "file_extension": ".py",
   "mimetype": "text/x-python",
   "name": "python",
   "nbconvert_exporter": "python",
   "pygments_lexer": "ipython3",
   "version": "3.9.12"
  }
 },
 "nbformat": 4,
 "nbformat_minor": 5
}
